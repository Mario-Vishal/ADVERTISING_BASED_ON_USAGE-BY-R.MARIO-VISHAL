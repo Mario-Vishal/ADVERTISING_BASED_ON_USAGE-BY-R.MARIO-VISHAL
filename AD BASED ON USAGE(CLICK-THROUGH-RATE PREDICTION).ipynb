{
 "cells": [
  {
   "cell_type": "code",
   "execution_count": 4,
   "metadata": {},
   "outputs": [
    {
     "data": {
      "text/plain": [
       "'c:\\\\Users\\\\Mario Vishal\\\\Desktop\\\\Data sets'"
      ]
     },
     "execution_count": 4,
     "metadata": {},
     "output_type": "execute_result"
    }
   ],
   "source": [
    "import os\n",
    "os.getcwd()\n",
    "os.chdir('c:/Users/Mario Vishal/Desktop/Data sets')\n",
    "os.getcwd()"
   ]
  },
  {
   "cell_type": "code",
   "execution_count": 5,
   "metadata": {},
   "outputs": [],
   "source": [
    "import numpy as np\n",
    "import pandas as pd\n",
    "import matplotlib.pyplot as plt\n",
    "%matplotlib inline\n",
    "from sklearn import preprocessing"
   ]
  },
  {
   "cell_type": "code",
   "execution_count": 9,
   "metadata": {
    "scrolled": true
   },
   "outputs": [
    {
     "data": {
      "text/html": [
       "<div>\n",
       "<style scoped>\n",
       "    .dataframe tbody tr th:only-of-type {\n",
       "        vertical-align: middle;\n",
       "    }\n",
       "\n",
       "    .dataframe tbody tr th {\n",
       "        vertical-align: top;\n",
       "    }\n",
       "\n",
       "    .dataframe thead th {\n",
       "        text-align: right;\n",
       "    }\n",
       "</style>\n",
       "<table border=\"1\" class=\"dataframe\">\n",
       "  <thead>\n",
       "    <tr style=\"text-align: right;\">\n",
       "      <th></th>\n",
       "      <th>id</th>\n",
       "      <th>click</th>\n",
       "      <th>hour</th>\n",
       "      <th>C1</th>\n",
       "      <th>banner_pos</th>\n",
       "      <th>site_id</th>\n",
       "      <th>site_domain</th>\n",
       "      <th>site_category</th>\n",
       "      <th>app_id</th>\n",
       "      <th>app_domain</th>\n",
       "      <th>...</th>\n",
       "      <th>device_type</th>\n",
       "      <th>device_conn_type</th>\n",
       "      <th>C14</th>\n",
       "      <th>C15</th>\n",
       "      <th>C16</th>\n",
       "      <th>C17</th>\n",
       "      <th>C18</th>\n",
       "      <th>C19</th>\n",
       "      <th>C20</th>\n",
       "      <th>C21</th>\n",
       "    </tr>\n",
       "  </thead>\n",
       "  <tbody>\n",
       "    <tr>\n",
       "      <th>0</th>\n",
       "      <td>1.000009e+18</td>\n",
       "      <td>0</td>\n",
       "      <td>14102100</td>\n",
       "      <td>1005</td>\n",
       "      <td>0</td>\n",
       "      <td>1fbe01fe</td>\n",
       "      <td>f3845767</td>\n",
       "      <td>28905ebd</td>\n",
       "      <td>ecad2386</td>\n",
       "      <td>7801e8d9</td>\n",
       "      <td>...</td>\n",
       "      <td>1</td>\n",
       "      <td>2</td>\n",
       "      <td>15706</td>\n",
       "      <td>320</td>\n",
       "      <td>50</td>\n",
       "      <td>1722</td>\n",
       "      <td>0</td>\n",
       "      <td>35</td>\n",
       "      <td>-1</td>\n",
       "      <td>79</td>\n",
       "    </tr>\n",
       "    <tr>\n",
       "      <th>1</th>\n",
       "      <td>1.000017e+19</td>\n",
       "      <td>0</td>\n",
       "      <td>14102100</td>\n",
       "      <td>1005</td>\n",
       "      <td>0</td>\n",
       "      <td>1fbe01fe</td>\n",
       "      <td>f3845767</td>\n",
       "      <td>28905ebd</td>\n",
       "      <td>ecad2386</td>\n",
       "      <td>7801e8d9</td>\n",
       "      <td>...</td>\n",
       "      <td>1</td>\n",
       "      <td>0</td>\n",
       "      <td>15704</td>\n",
       "      <td>320</td>\n",
       "      <td>50</td>\n",
       "      <td>1722</td>\n",
       "      <td>0</td>\n",
       "      <td>35</td>\n",
       "      <td>100084</td>\n",
       "      <td>79</td>\n",
       "    </tr>\n",
       "    <tr>\n",
       "      <th>2</th>\n",
       "      <td>1.000037e+19</td>\n",
       "      <td>0</td>\n",
       "      <td>14102100</td>\n",
       "      <td>1005</td>\n",
       "      <td>0</td>\n",
       "      <td>1fbe01fe</td>\n",
       "      <td>f3845767</td>\n",
       "      <td>28905ebd</td>\n",
       "      <td>ecad2386</td>\n",
       "      <td>7801e8d9</td>\n",
       "      <td>...</td>\n",
       "      <td>1</td>\n",
       "      <td>0</td>\n",
       "      <td>15704</td>\n",
       "      <td>320</td>\n",
       "      <td>50</td>\n",
       "      <td>1722</td>\n",
       "      <td>0</td>\n",
       "      <td>35</td>\n",
       "      <td>100084</td>\n",
       "      <td>79</td>\n",
       "    </tr>\n",
       "    <tr>\n",
       "      <th>3</th>\n",
       "      <td>1.000064e+19</td>\n",
       "      <td>0</td>\n",
       "      <td>14102100</td>\n",
       "      <td>1005</td>\n",
       "      <td>0</td>\n",
       "      <td>1fbe01fe</td>\n",
       "      <td>f3845767</td>\n",
       "      <td>28905ebd</td>\n",
       "      <td>ecad2386</td>\n",
       "      <td>7801e8d9</td>\n",
       "      <td>...</td>\n",
       "      <td>1</td>\n",
       "      <td>0</td>\n",
       "      <td>15706</td>\n",
       "      <td>320</td>\n",
       "      <td>50</td>\n",
       "      <td>1722</td>\n",
       "      <td>0</td>\n",
       "      <td>35</td>\n",
       "      <td>100084</td>\n",
       "      <td>79</td>\n",
       "    </tr>\n",
       "    <tr>\n",
       "      <th>4</th>\n",
       "      <td>1.000068e+19</td>\n",
       "      <td>0</td>\n",
       "      <td>14102100</td>\n",
       "      <td>1005</td>\n",
       "      <td>1</td>\n",
       "      <td>fe8cc448</td>\n",
       "      <td>9166c161</td>\n",
       "      <td>0569f928</td>\n",
       "      <td>ecad2386</td>\n",
       "      <td>7801e8d9</td>\n",
       "      <td>...</td>\n",
       "      <td>1</td>\n",
       "      <td>0</td>\n",
       "      <td>18993</td>\n",
       "      <td>320</td>\n",
       "      <td>50</td>\n",
       "      <td>2161</td>\n",
       "      <td>0</td>\n",
       "      <td>35</td>\n",
       "      <td>-1</td>\n",
       "      <td>157</td>\n",
       "    </tr>\n",
       "  </tbody>\n",
       "</table>\n",
       "<p>5 rows × 24 columns</p>\n",
       "</div>"
      ],
      "text/plain": [
       "             id  click      hour    C1  banner_pos   site_id site_domain  \\\n",
       "0  1.000009e+18      0  14102100  1005           0  1fbe01fe    f3845767   \n",
       "1  1.000017e+19      0  14102100  1005           0  1fbe01fe    f3845767   \n",
       "2  1.000037e+19      0  14102100  1005           0  1fbe01fe    f3845767   \n",
       "3  1.000064e+19      0  14102100  1005           0  1fbe01fe    f3845767   \n",
       "4  1.000068e+19      0  14102100  1005           1  fe8cc448    9166c161   \n",
       "\n",
       "  site_category    app_id app_domain ...  device_type device_conn_type    C14  \\\n",
       "0      28905ebd  ecad2386   7801e8d9 ...            1                2  15706   \n",
       "1      28905ebd  ecad2386   7801e8d9 ...            1                0  15704   \n",
       "2      28905ebd  ecad2386   7801e8d9 ...            1                0  15704   \n",
       "3      28905ebd  ecad2386   7801e8d9 ...            1                0  15706   \n",
       "4      0569f928  ecad2386   7801e8d9 ...            1                0  18993   \n",
       "\n",
       "   C15  C16   C17  C18  C19     C20  C21  \n",
       "0  320   50  1722    0   35      -1   79  \n",
       "1  320   50  1722    0   35  100084   79  \n",
       "2  320   50  1722    0   35  100084   79  \n",
       "3  320   50  1722    0   35  100084   79  \n",
       "4  320   50  2161    0   35      -1  157  \n",
       "\n",
       "[5 rows x 24 columns]"
      ]
     },
     "execution_count": 9,
     "metadata": {},
     "output_type": "execute_result"
    }
   ],
   "source": [
    "data1=pd.read_csv('train_data.csv')\n",
    "data1.head()"
   ]
  },
  {
   "cell_type": "code",
   "execution_count": 10,
   "metadata": {},
   "outputs": [],
   "source": [
    "data=data1.iloc[:10000,:]"
   ]
  },
  {
   "cell_type": "markdown",
   "metadata": {},
   "source": [
    "#from the above data total 24 features and 100000 observations are present\n",
    "and the output variable is \"click\" in this data set ,as it 0s and 1s it is a type of classification problem."
   ]
  },
  {
   "cell_type": "markdown",
   "metadata": {},
   "source": [
    "#EDA "
   ]
  },
  {
   "cell_type": "code",
   "execution_count": 43,
   "metadata": {},
   "outputs": [
    {
     "data": {
      "text/html": [
       "<div>\n",
       "<style scoped>\n",
       "    .dataframe tbody tr th:only-of-type {\n",
       "        vertical-align: middle;\n",
       "    }\n",
       "\n",
       "    .dataframe tbody tr th {\n",
       "        vertical-align: top;\n",
       "    }\n",
       "\n",
       "    .dataframe thead th {\n",
       "        text-align: right;\n",
       "    }\n",
       "</style>\n",
       "<table border=\"1\" class=\"dataframe\">\n",
       "  <thead>\n",
       "    <tr style=\"text-align: right;\">\n",
       "      <th></th>\n",
       "      <th>click</th>\n",
       "      <th>C1</th>\n",
       "      <th>banner_pos</th>\n",
       "      <th>site_id</th>\n",
       "      <th>site_domain</th>\n",
       "      <th>site_category</th>\n",
       "      <th>app_id</th>\n",
       "      <th>app_domain</th>\n",
       "      <th>app_category</th>\n",
       "      <th>device_id</th>\n",
       "      <th>...</th>\n",
       "      <th>device_type</th>\n",
       "      <th>device_conn_type</th>\n",
       "      <th>C14</th>\n",
       "      <th>C15</th>\n",
       "      <th>C16</th>\n",
       "      <th>C17</th>\n",
       "      <th>C18</th>\n",
       "      <th>C19</th>\n",
       "      <th>C20</th>\n",
       "      <th>C21</th>\n",
       "    </tr>\n",
       "  </thead>\n",
       "  <tbody>\n",
       "    <tr>\n",
       "      <th>9995</th>\n",
       "      <td>0</td>\n",
       "      <td>1005</td>\n",
       "      <td>0</td>\n",
       "      <td>6c5b482c</td>\n",
       "      <td>7687a86e</td>\n",
       "      <td>3e814130</td>\n",
       "      <td>ecad2386</td>\n",
       "      <td>7801e8d9</td>\n",
       "      <td>07d7df22</td>\n",
       "      <td>a99f214a</td>\n",
       "      <td>...</td>\n",
       "      <td>1</td>\n",
       "      <td>0</td>\n",
       "      <td>17654</td>\n",
       "      <td>300</td>\n",
       "      <td>250</td>\n",
       "      <td>1994</td>\n",
       "      <td>2</td>\n",
       "      <td>39</td>\n",
       "      <td>100083</td>\n",
       "      <td>33</td>\n",
       "    </tr>\n",
       "    <tr>\n",
       "      <th>9996</th>\n",
       "      <td>1</td>\n",
       "      <td>1005</td>\n",
       "      <td>0</td>\n",
       "      <td>1fbe01fe</td>\n",
       "      <td>f3845767</td>\n",
       "      <td>28905ebd</td>\n",
       "      <td>ecad2386</td>\n",
       "      <td>7801e8d9</td>\n",
       "      <td>07d7df22</td>\n",
       "      <td>a99f214a</td>\n",
       "      <td>...</td>\n",
       "      <td>1</td>\n",
       "      <td>0</td>\n",
       "      <td>15701</td>\n",
       "      <td>320</td>\n",
       "      <td>50</td>\n",
       "      <td>1722</td>\n",
       "      <td>0</td>\n",
       "      <td>35</td>\n",
       "      <td>-1</td>\n",
       "      <td>79</td>\n",
       "    </tr>\n",
       "    <tr>\n",
       "      <th>9997</th>\n",
       "      <td>1</td>\n",
       "      <td>1005</td>\n",
       "      <td>1</td>\n",
       "      <td>5ee41ff2</td>\n",
       "      <td>17d996e6</td>\n",
       "      <td>f028772b</td>\n",
       "      <td>ecad2386</td>\n",
       "      <td>7801e8d9</td>\n",
       "      <td>07d7df22</td>\n",
       "      <td>a99f214a</td>\n",
       "      <td>...</td>\n",
       "      <td>1</td>\n",
       "      <td>0</td>\n",
       "      <td>16920</td>\n",
       "      <td>320</td>\n",
       "      <td>50</td>\n",
       "      <td>1899</td>\n",
       "      <td>0</td>\n",
       "      <td>431</td>\n",
       "      <td>-1</td>\n",
       "      <td>117</td>\n",
       "    </tr>\n",
       "    <tr>\n",
       "      <th>9998</th>\n",
       "      <td>0</td>\n",
       "      <td>1005</td>\n",
       "      <td>0</td>\n",
       "      <td>85f751fd</td>\n",
       "      <td>c4e18dd6</td>\n",
       "      <td>50e219e0</td>\n",
       "      <td>5e3f096f</td>\n",
       "      <td>2347f47a</td>\n",
       "      <td>0f2161f8</td>\n",
       "      <td>a99f214a</td>\n",
       "      <td>...</td>\n",
       "      <td>1</td>\n",
       "      <td>0</td>\n",
       "      <td>21611</td>\n",
       "      <td>320</td>\n",
       "      <td>50</td>\n",
       "      <td>2480</td>\n",
       "      <td>3</td>\n",
       "      <td>297</td>\n",
       "      <td>100111</td>\n",
       "      <td>61</td>\n",
       "    </tr>\n",
       "    <tr>\n",
       "      <th>9999</th>\n",
       "      <td>0</td>\n",
       "      <td>1005</td>\n",
       "      <td>0</td>\n",
       "      <td>83a0ad1a</td>\n",
       "      <td>5c9ae867</td>\n",
       "      <td>f028772b</td>\n",
       "      <td>ecad2386</td>\n",
       "      <td>7801e8d9</td>\n",
       "      <td>07d7df22</td>\n",
       "      <td>a99f214a</td>\n",
       "      <td>...</td>\n",
       "      <td>1</td>\n",
       "      <td>0</td>\n",
       "      <td>18945</td>\n",
       "      <td>320</td>\n",
       "      <td>50</td>\n",
       "      <td>2153</td>\n",
       "      <td>3</td>\n",
       "      <td>427</td>\n",
       "      <td>100063</td>\n",
       "      <td>61</td>\n",
       "    </tr>\n",
       "  </tbody>\n",
       "</table>\n",
       "<p>5 rows × 22 columns</p>\n",
       "</div>"
      ],
      "text/plain": [
       "      click    C1  banner_pos   site_id site_domain site_category    app_id  \\\n",
       "9995      0  1005           0  6c5b482c    7687a86e      3e814130  ecad2386   \n",
       "9996      1  1005           0  1fbe01fe    f3845767      28905ebd  ecad2386   \n",
       "9997      1  1005           1  5ee41ff2    17d996e6      f028772b  ecad2386   \n",
       "9998      0  1005           0  85f751fd    c4e18dd6      50e219e0  5e3f096f   \n",
       "9999      0  1005           0  83a0ad1a    5c9ae867      f028772b  ecad2386   \n",
       "\n",
       "     app_domain app_category device_id ...  device_type device_conn_type  \\\n",
       "9995   7801e8d9     07d7df22  a99f214a ...            1                0   \n",
       "9996   7801e8d9     07d7df22  a99f214a ...            1                0   \n",
       "9997   7801e8d9     07d7df22  a99f214a ...            1                0   \n",
       "9998   2347f47a     0f2161f8  a99f214a ...            1                0   \n",
       "9999   7801e8d9     07d7df22  a99f214a ...            1                0   \n",
       "\n",
       "        C14  C15  C16   C17  C18  C19     C20  C21  \n",
       "9995  17654  300  250  1994    2   39  100083   33  \n",
       "9996  15701  320   50  1722    0   35      -1   79  \n",
       "9997  16920  320   50  1899    0  431      -1  117  \n",
       "9998  21611  320   50  2480    3  297  100111   61  \n",
       "9999  18945  320   50  2153    3  427  100063   61  \n",
       "\n",
       "[5 rows x 22 columns]"
      ]
     },
     "execution_count": 43,
     "metadata": {},
     "output_type": "execute_result"
    }
   ],
   "source": [
    "data.tail()"
   ]
  },
  {
   "cell_type": "code",
   "execution_count": 13,
   "metadata": {},
   "outputs": [
    {
     "data": {
      "text/plain": [
       "Index(['id', 'click', 'hour', 'C1', 'banner_pos', 'site_id', 'site_domain',\n",
       "       'site_category', 'app_id', 'app_domain', 'app_category', 'device_id',\n",
       "       'device_ip', 'device_model', 'device_type', 'device_conn_type', 'C14',\n",
       "       'C15', 'C16', 'C17', 'C18', 'C19', 'C20', 'C21'],\n",
       "      dtype='object')"
      ]
     },
     "execution_count": 13,
     "metadata": {},
     "output_type": "execute_result"
    }
   ],
   "source": [
    "data.columns"
   ]
  },
  {
   "cell_type": "code",
   "execution_count": 14,
   "metadata": {},
   "outputs": [
    {
     "data": {
      "text/html": [
       "<div>\n",
       "<style scoped>\n",
       "    .dataframe tbody tr th:only-of-type {\n",
       "        vertical-align: middle;\n",
       "    }\n",
       "\n",
       "    .dataframe tbody tr th {\n",
       "        vertical-align: top;\n",
       "    }\n",
       "\n",
       "    .dataframe thead th {\n",
       "        text-align: right;\n",
       "    }\n",
       "</style>\n",
       "<table border=\"1\" class=\"dataframe\">\n",
       "  <thead>\n",
       "    <tr style=\"text-align: right;\">\n",
       "      <th></th>\n",
       "      <th>id</th>\n",
       "      <th>click</th>\n",
       "      <th>hour</th>\n",
       "      <th>C1</th>\n",
       "      <th>banner_pos</th>\n",
       "      <th>device_type</th>\n",
       "      <th>device_conn_type</th>\n",
       "      <th>C14</th>\n",
       "      <th>C15</th>\n",
       "      <th>C16</th>\n",
       "      <th>C17</th>\n",
       "      <th>C18</th>\n",
       "      <th>C19</th>\n",
       "      <th>C20</th>\n",
       "      <th>C21</th>\n",
       "    </tr>\n",
       "  </thead>\n",
       "  <tbody>\n",
       "    <tr>\n",
       "      <th>count</th>\n",
       "      <td>1.000000e+04</td>\n",
       "      <td>10000.000000</td>\n",
       "      <td>10000.0</td>\n",
       "      <td>10000.000000</td>\n",
       "      <td>10000.000000</td>\n",
       "      <td>10000.000000</td>\n",
       "      <td>10000.000000</td>\n",
       "      <td>10000.000000</td>\n",
       "      <td>10000.000000</td>\n",
       "      <td>10000.000000</td>\n",
       "      <td>10000.000000</td>\n",
       "      <td>10000.000000</td>\n",
       "      <td>10000.000000</td>\n",
       "      <td>10000.000000</td>\n",
       "      <td>10000.000000</td>\n",
       "    </tr>\n",
       "    <tr>\n",
       "      <th>mean</th>\n",
       "      <td>9.795641e+18</td>\n",
       "      <td>0.170600</td>\n",
       "      <td>14102100.0</td>\n",
       "      <td>1005.059900</td>\n",
       "      <td>0.195900</td>\n",
       "      <td>1.068200</td>\n",
       "      <td>0.204500</td>\n",
       "      <td>17711.693800</td>\n",
       "      <td>318.478000</td>\n",
       "      <td>56.986400</td>\n",
       "      <td>1967.605900</td>\n",
       "      <td>0.789500</td>\n",
       "      <td>125.622400</td>\n",
       "      <td>37746.299500</td>\n",
       "      <td>88.260300</td>\n",
       "    </tr>\n",
       "    <tr>\n",
       "      <th>std</th>\n",
       "      <td>2.853038e+18</td>\n",
       "      <td>0.376178</td>\n",
       "      <td>0.0</td>\n",
       "      <td>1.103193</td>\n",
       "      <td>0.404895</td>\n",
       "      <td>0.601984</td>\n",
       "      <td>0.646469</td>\n",
       "      <td>3139.296362</td>\n",
       "      <td>11.492429</td>\n",
       "      <td>37.425508</td>\n",
       "      <td>385.160315</td>\n",
       "      <td>1.228878</td>\n",
       "      <td>234.039047</td>\n",
       "      <td>48516.401341</td>\n",
       "      <td>45.153569</td>\n",
       "    </tr>\n",
       "    <tr>\n",
       "      <th>min</th>\n",
       "      <td>1.004777e+16</td>\n",
       "      <td>0.000000</td>\n",
       "      <td>14102100.0</td>\n",
       "      <td>1001.000000</td>\n",
       "      <td>0.000000</td>\n",
       "      <td>0.000000</td>\n",
       "      <td>0.000000</td>\n",
       "      <td>375.000000</td>\n",
       "      <td>216.000000</td>\n",
       "      <td>36.000000</td>\n",
       "      <td>112.000000</td>\n",
       "      <td>0.000000</td>\n",
       "      <td>35.000000</td>\n",
       "      <td>-1.000000</td>\n",
       "      <td>13.000000</td>\n",
       "    </tr>\n",
       "    <tr>\n",
       "      <th>25%</th>\n",
       "      <td>1.024754e+19</td>\n",
       "      <td>0.000000</td>\n",
       "      <td>14102100.0</td>\n",
       "      <td>1005.000000</td>\n",
       "      <td>0.000000</td>\n",
       "      <td>1.000000</td>\n",
       "      <td>0.000000</td>\n",
       "      <td>15704.000000</td>\n",
       "      <td>320.000000</td>\n",
       "      <td>50.000000</td>\n",
       "      <td>1722.000000</td>\n",
       "      <td>0.000000</td>\n",
       "      <td>35.000000</td>\n",
       "      <td>-1.000000</td>\n",
       "      <td>61.000000</td>\n",
       "    </tr>\n",
       "    <tr>\n",
       "      <th>50%</th>\n",
       "      <td>1.063018e+19</td>\n",
       "      <td>0.000000</td>\n",
       "      <td>14102100.0</td>\n",
       "      <td>1005.000000</td>\n",
       "      <td>0.000000</td>\n",
       "      <td>1.000000</td>\n",
       "      <td>0.000000</td>\n",
       "      <td>17654.000000</td>\n",
       "      <td>320.000000</td>\n",
       "      <td>50.000000</td>\n",
       "      <td>1993.000000</td>\n",
       "      <td>0.000000</td>\n",
       "      <td>35.000000</td>\n",
       "      <td>-1.000000</td>\n",
       "      <td>79.000000</td>\n",
       "    </tr>\n",
       "    <tr>\n",
       "      <th>75%</th>\n",
       "      <td>1.100749e+19</td>\n",
       "      <td>0.000000</td>\n",
       "      <td>14102100.0</td>\n",
       "      <td>1005.000000</td>\n",
       "      <td>0.000000</td>\n",
       "      <td>1.000000</td>\n",
       "      <td>0.000000</td>\n",
       "      <td>20362.000000</td>\n",
       "      <td>320.000000</td>\n",
       "      <td>50.000000</td>\n",
       "      <td>2307.000000</td>\n",
       "      <td>2.000000</td>\n",
       "      <td>39.000000</td>\n",
       "      <td>100083.000000</td>\n",
       "      <td>117.000000</td>\n",
       "    </tr>\n",
       "    <tr>\n",
       "      <th>max</th>\n",
       "      <td>1.138513e+19</td>\n",
       "      <td>1.000000</td>\n",
       "      <td>14102100.0</td>\n",
       "      <td>1010.000000</td>\n",
       "      <td>5.000000</td>\n",
       "      <td>5.000000</td>\n",
       "      <td>5.000000</td>\n",
       "      <td>21705.000000</td>\n",
       "      <td>728.000000</td>\n",
       "      <td>480.000000</td>\n",
       "      <td>2497.000000</td>\n",
       "      <td>3.000000</td>\n",
       "      <td>1835.000000</td>\n",
       "      <td>100248.000000</td>\n",
       "      <td>157.000000</td>\n",
       "    </tr>\n",
       "  </tbody>\n",
       "</table>\n",
       "</div>"
      ],
      "text/plain": [
       "                 id         click        hour            C1    banner_pos  \\\n",
       "count  1.000000e+04  10000.000000     10000.0  10000.000000  10000.000000   \n",
       "mean   9.795641e+18      0.170600  14102100.0   1005.059900      0.195900   \n",
       "std    2.853038e+18      0.376178         0.0      1.103193      0.404895   \n",
       "min    1.004777e+16      0.000000  14102100.0   1001.000000      0.000000   \n",
       "25%    1.024754e+19      0.000000  14102100.0   1005.000000      0.000000   \n",
       "50%    1.063018e+19      0.000000  14102100.0   1005.000000      0.000000   \n",
       "75%    1.100749e+19      0.000000  14102100.0   1005.000000      0.000000   \n",
       "max    1.138513e+19      1.000000  14102100.0   1010.000000      5.000000   \n",
       "\n",
       "        device_type  device_conn_type           C14           C15  \\\n",
       "count  10000.000000      10000.000000  10000.000000  10000.000000   \n",
       "mean       1.068200          0.204500  17711.693800    318.478000   \n",
       "std        0.601984          0.646469   3139.296362     11.492429   \n",
       "min        0.000000          0.000000    375.000000    216.000000   \n",
       "25%        1.000000          0.000000  15704.000000    320.000000   \n",
       "50%        1.000000          0.000000  17654.000000    320.000000   \n",
       "75%        1.000000          0.000000  20362.000000    320.000000   \n",
       "max        5.000000          5.000000  21705.000000    728.000000   \n",
       "\n",
       "                C16           C17           C18           C19            C20  \\\n",
       "count  10000.000000  10000.000000  10000.000000  10000.000000   10000.000000   \n",
       "mean      56.986400   1967.605900      0.789500    125.622400   37746.299500   \n",
       "std       37.425508    385.160315      1.228878    234.039047   48516.401341   \n",
       "min       36.000000    112.000000      0.000000     35.000000      -1.000000   \n",
       "25%       50.000000   1722.000000      0.000000     35.000000      -1.000000   \n",
       "50%       50.000000   1993.000000      0.000000     35.000000      -1.000000   \n",
       "75%       50.000000   2307.000000      2.000000     39.000000  100083.000000   \n",
       "max      480.000000   2497.000000      3.000000   1835.000000  100248.000000   \n",
       "\n",
       "                C21  \n",
       "count  10000.000000  \n",
       "mean      88.260300  \n",
       "std       45.153569  \n",
       "min       13.000000  \n",
       "25%       61.000000  \n",
       "50%       79.000000  \n",
       "75%      117.000000  \n",
       "max      157.000000  "
      ]
     },
     "execution_count": 14,
     "metadata": {},
     "output_type": "execute_result"
    }
   ],
   "source": [
    "data.describe()"
   ]
  },
  {
   "cell_type": "code",
   "execution_count": 15,
   "metadata": {},
   "outputs": [
    {
     "data": {
      "text/plain": [
       "0.1706"
      ]
     },
     "execution_count": 15,
     "metadata": {},
     "output_type": "execute_result"
    }
   ],
   "source": [
    "data['click'].mean()"
   ]
  },
  {
   "cell_type": "code",
   "execution_count": 16,
   "metadata": {},
   "outputs": [
    {
     "data": {
      "text/html": [
       "<div>\n",
       "<style scoped>\n",
       "    .dataframe tbody tr th:only-of-type {\n",
       "        vertical-align: middle;\n",
       "    }\n",
       "\n",
       "    .dataframe tbody tr th {\n",
       "        vertical-align: top;\n",
       "    }\n",
       "\n",
       "    .dataframe thead th {\n",
       "        text-align: right;\n",
       "    }\n",
       "</style>\n",
       "<table border=\"1\" class=\"dataframe\">\n",
       "  <thead>\n",
       "    <tr style=\"text-align: right;\">\n",
       "      <th></th>\n",
       "      <th>id</th>\n",
       "      <th>click</th>\n",
       "      <th>hour</th>\n",
       "      <th>C1</th>\n",
       "      <th>banner_pos</th>\n",
       "      <th>device_type</th>\n",
       "      <th>device_conn_type</th>\n",
       "      <th>C14</th>\n",
       "      <th>C15</th>\n",
       "      <th>C16</th>\n",
       "      <th>C17</th>\n",
       "      <th>C18</th>\n",
       "      <th>C19</th>\n",
       "      <th>C20</th>\n",
       "      <th>C21</th>\n",
       "    </tr>\n",
       "  </thead>\n",
       "  <tbody>\n",
       "    <tr>\n",
       "      <th>id</th>\n",
       "      <td>1.000000</td>\n",
       "      <td>0.005137</td>\n",
       "      <td>NaN</td>\n",
       "      <td>-0.004291</td>\n",
       "      <td>-0.010456</td>\n",
       "      <td>0.000488</td>\n",
       "      <td>0.000588</td>\n",
       "      <td>0.011745</td>\n",
       "      <td>-0.002437</td>\n",
       "      <td>0.004782</td>\n",
       "      <td>0.012280</td>\n",
       "      <td>-0.001541</td>\n",
       "      <td>0.003817</td>\n",
       "      <td>0.002947</td>\n",
       "      <td>-0.010200</td>\n",
       "    </tr>\n",
       "    <tr>\n",
       "      <th>click</th>\n",
       "      <td>0.005137</td>\n",
       "      <td>1.000000</td>\n",
       "      <td>NaN</td>\n",
       "      <td>-0.051617</td>\n",
       "      <td>0.025473</td>\n",
       "      <td>-0.054034</td>\n",
       "      <td>-0.030382</td>\n",
       "      <td>-0.087630</td>\n",
       "      <td>-0.061522</td>\n",
       "      <td>0.139553</td>\n",
       "      <td>-0.081150</td>\n",
       "      <td>0.035721</td>\n",
       "      <td>0.065797</td>\n",
       "      <td>-0.015000</td>\n",
       "      <td>-0.151854</td>\n",
       "    </tr>\n",
       "    <tr>\n",
       "      <th>hour</th>\n",
       "      <td>NaN</td>\n",
       "      <td>NaN</td>\n",
       "      <td>NaN</td>\n",
       "      <td>NaN</td>\n",
       "      <td>NaN</td>\n",
       "      <td>NaN</td>\n",
       "      <td>NaN</td>\n",
       "      <td>NaN</td>\n",
       "      <td>NaN</td>\n",
       "      <td>NaN</td>\n",
       "      <td>NaN</td>\n",
       "      <td>NaN</td>\n",
       "      <td>NaN</td>\n",
       "      <td>NaN</td>\n",
       "      <td>NaN</td>\n",
       "    </tr>\n",
       "    <tr>\n",
       "      <th>C1</th>\n",
       "      <td>-0.004291</td>\n",
       "      <td>-0.051617</td>\n",
       "      <td>NaN</td>\n",
       "      <td>1.000000</td>\n",
       "      <td>0.367787</td>\n",
       "      <td>0.966383</td>\n",
       "      <td>0.116743</td>\n",
       "      <td>0.127260</td>\n",
       "      <td>0.052628</td>\n",
       "      <td>-0.009144</td>\n",
       "      <td>0.134909</td>\n",
       "      <td>0.095982</td>\n",
       "      <td>-0.057215</td>\n",
       "      <td>-0.078781</td>\n",
       "      <td>0.112773</td>\n",
       "    </tr>\n",
       "    <tr>\n",
       "      <th>banner_pos</th>\n",
       "      <td>-0.010456</td>\n",
       "      <td>0.025473</td>\n",
       "      <td>NaN</td>\n",
       "      <td>0.367787</td>\n",
       "      <td>1.000000</td>\n",
       "      <td>0.381344</td>\n",
       "      <td>0.050581</td>\n",
       "      <td>0.139898</td>\n",
       "      <td>-0.058082</td>\n",
       "      <td>-0.095423</td>\n",
       "      <td>0.131165</td>\n",
       "      <td>0.171325</td>\n",
       "      <td>0.309933</td>\n",
       "      <td>0.009787</td>\n",
       "      <td>-0.026711</td>\n",
       "    </tr>\n",
       "    <tr>\n",
       "      <th>device_type</th>\n",
       "      <td>0.000488</td>\n",
       "      <td>-0.054034</td>\n",
       "      <td>NaN</td>\n",
       "      <td>0.966383</td>\n",
       "      <td>0.381344</td>\n",
       "      <td>1.000000</td>\n",
       "      <td>0.106015</td>\n",
       "      <td>0.163287</td>\n",
       "      <td>0.056523</td>\n",
       "      <td>-0.020130</td>\n",
       "      <td>0.175760</td>\n",
       "      <td>0.163658</td>\n",
       "      <td>-0.054398</td>\n",
       "      <td>-0.063507</td>\n",
       "      <td>0.112441</td>\n",
       "    </tr>\n",
       "    <tr>\n",
       "      <th>device_conn_type</th>\n",
       "      <td>0.000588</td>\n",
       "      <td>-0.030382</td>\n",
       "      <td>NaN</td>\n",
       "      <td>0.116743</td>\n",
       "      <td>0.050581</td>\n",
       "      <td>0.106015</td>\n",
       "      <td>1.000000</td>\n",
       "      <td>0.002294</td>\n",
       "      <td>0.051213</td>\n",
       "      <td>-0.014208</td>\n",
       "      <td>-0.007743</td>\n",
       "      <td>0.009501</td>\n",
       "      <td>-0.025278</td>\n",
       "      <td>0.011127</td>\n",
       "      <td>0.077320</td>\n",
       "    </tr>\n",
       "    <tr>\n",
       "      <th>C14</th>\n",
       "      <td>0.011745</td>\n",
       "      <td>-0.087630</td>\n",
       "      <td>NaN</td>\n",
       "      <td>0.127260</td>\n",
       "      <td>0.139898</td>\n",
       "      <td>0.163287</td>\n",
       "      <td>0.002294</td>\n",
       "      <td>1.000000</td>\n",
       "      <td>-0.071252</td>\n",
       "      <td>0.054249</td>\n",
       "      <td>0.976833</td>\n",
       "      <td>0.139157</td>\n",
       "      <td>0.110566</td>\n",
       "      <td>-0.018561</td>\n",
       "      <td>0.390622</td>\n",
       "    </tr>\n",
       "    <tr>\n",
       "      <th>C15</th>\n",
       "      <td>-0.002437</td>\n",
       "      <td>-0.061522</td>\n",
       "      <td>NaN</td>\n",
       "      <td>0.052628</td>\n",
       "      <td>-0.058082</td>\n",
       "      <td>0.056523</td>\n",
       "      <td>0.051213</td>\n",
       "      <td>-0.071252</td>\n",
       "      <td>1.000000</td>\n",
       "      <td>-0.264611</td>\n",
       "      <td>-0.084087</td>\n",
       "      <td>-0.022744</td>\n",
       "      <td>0.057104</td>\n",
       "      <td>0.022833</td>\n",
       "      <td>-0.023300</td>\n",
       "    </tr>\n",
       "    <tr>\n",
       "      <th>C16</th>\n",
       "      <td>0.004782</td>\n",
       "      <td>0.139553</td>\n",
       "      <td>NaN</td>\n",
       "      <td>-0.009144</td>\n",
       "      <td>-0.095423</td>\n",
       "      <td>-0.020130</td>\n",
       "      <td>-0.014208</td>\n",
       "      <td>0.054249</td>\n",
       "      <td>-0.264611</td>\n",
       "      <td>1.000000</td>\n",
       "      <td>0.071555</td>\n",
       "      <td>0.192700</td>\n",
       "      <td>-0.044714</td>\n",
       "      <td>-0.004884</td>\n",
       "      <td>-0.229625</td>\n",
       "    </tr>\n",
       "    <tr>\n",
       "      <th>C17</th>\n",
       "      <td>0.012280</td>\n",
       "      <td>-0.081150</td>\n",
       "      <td>NaN</td>\n",
       "      <td>0.134909</td>\n",
       "      <td>0.131165</td>\n",
       "      <td>0.175760</td>\n",
       "      <td>-0.007743</td>\n",
       "      <td>0.976833</td>\n",
       "      <td>-0.084087</td>\n",
       "      <td>0.071555</td>\n",
       "      <td>1.000000</td>\n",
       "      <td>0.166738</td>\n",
       "      <td>0.078131</td>\n",
       "      <td>-0.036728</td>\n",
       "      <td>0.367974</td>\n",
       "    </tr>\n",
       "    <tr>\n",
       "      <th>C18</th>\n",
       "      <td>-0.001541</td>\n",
       "      <td>0.035721</td>\n",
       "      <td>NaN</td>\n",
       "      <td>0.095982</td>\n",
       "      <td>0.171325</td>\n",
       "      <td>0.163658</td>\n",
       "      <td>0.009501</td>\n",
       "      <td>0.139157</td>\n",
       "      <td>-0.022744</td>\n",
       "      <td>0.192700</td>\n",
       "      <td>0.166738</td>\n",
       "      <td>1.000000</td>\n",
       "      <td>0.231214</td>\n",
       "      <td>0.192107</td>\n",
       "      <td>-0.503631</td>\n",
       "    </tr>\n",
       "    <tr>\n",
       "      <th>C19</th>\n",
       "      <td>0.003817</td>\n",
       "      <td>0.065797</td>\n",
       "      <td>NaN</td>\n",
       "      <td>-0.057215</td>\n",
       "      <td>0.309933</td>\n",
       "      <td>-0.054398</td>\n",
       "      <td>-0.025278</td>\n",
       "      <td>0.110566</td>\n",
       "      <td>0.057104</td>\n",
       "      <td>-0.044714</td>\n",
       "      <td>0.078131</td>\n",
       "      <td>0.231214</td>\n",
       "      <td>1.000000</td>\n",
       "      <td>0.213281</td>\n",
       "      <td>-0.301911</td>\n",
       "    </tr>\n",
       "    <tr>\n",
       "      <th>C20</th>\n",
       "      <td>0.002947</td>\n",
       "      <td>-0.015000</td>\n",
       "      <td>NaN</td>\n",
       "      <td>-0.078781</td>\n",
       "      <td>0.009787</td>\n",
       "      <td>-0.063507</td>\n",
       "      <td>0.011127</td>\n",
       "      <td>-0.018561</td>\n",
       "      <td>0.022833</td>\n",
       "      <td>-0.004884</td>\n",
       "      <td>-0.036728</td>\n",
       "      <td>0.192107</td>\n",
       "      <td>0.213281</td>\n",
       "      <td>1.000000</td>\n",
       "      <td>-0.227524</td>\n",
       "    </tr>\n",
       "    <tr>\n",
       "      <th>C21</th>\n",
       "      <td>-0.010200</td>\n",
       "      <td>-0.151854</td>\n",
       "      <td>NaN</td>\n",
       "      <td>0.112773</td>\n",
       "      <td>-0.026711</td>\n",
       "      <td>0.112441</td>\n",
       "      <td>0.077320</td>\n",
       "      <td>0.390622</td>\n",
       "      <td>-0.023300</td>\n",
       "      <td>-0.229625</td>\n",
       "      <td>0.367974</td>\n",
       "      <td>-0.503631</td>\n",
       "      <td>-0.301911</td>\n",
       "      <td>-0.227524</td>\n",
       "      <td>1.000000</td>\n",
       "    </tr>\n",
       "  </tbody>\n",
       "</table>\n",
       "</div>"
      ],
      "text/plain": [
       "                        id     click  hour        C1  banner_pos  device_type  \\\n",
       "id                1.000000  0.005137   NaN -0.004291   -0.010456     0.000488   \n",
       "click             0.005137  1.000000   NaN -0.051617    0.025473    -0.054034   \n",
       "hour                   NaN       NaN   NaN       NaN         NaN          NaN   \n",
       "C1               -0.004291 -0.051617   NaN  1.000000    0.367787     0.966383   \n",
       "banner_pos       -0.010456  0.025473   NaN  0.367787    1.000000     0.381344   \n",
       "device_type       0.000488 -0.054034   NaN  0.966383    0.381344     1.000000   \n",
       "device_conn_type  0.000588 -0.030382   NaN  0.116743    0.050581     0.106015   \n",
       "C14               0.011745 -0.087630   NaN  0.127260    0.139898     0.163287   \n",
       "C15              -0.002437 -0.061522   NaN  0.052628   -0.058082     0.056523   \n",
       "C16               0.004782  0.139553   NaN -0.009144   -0.095423    -0.020130   \n",
       "C17               0.012280 -0.081150   NaN  0.134909    0.131165     0.175760   \n",
       "C18              -0.001541  0.035721   NaN  0.095982    0.171325     0.163658   \n",
       "C19               0.003817  0.065797   NaN -0.057215    0.309933    -0.054398   \n",
       "C20               0.002947 -0.015000   NaN -0.078781    0.009787    -0.063507   \n",
       "C21              -0.010200 -0.151854   NaN  0.112773   -0.026711     0.112441   \n",
       "\n",
       "                  device_conn_type       C14       C15       C16       C17  \\\n",
       "id                        0.000588  0.011745 -0.002437  0.004782  0.012280   \n",
       "click                    -0.030382 -0.087630 -0.061522  0.139553 -0.081150   \n",
       "hour                           NaN       NaN       NaN       NaN       NaN   \n",
       "C1                        0.116743  0.127260  0.052628 -0.009144  0.134909   \n",
       "banner_pos                0.050581  0.139898 -0.058082 -0.095423  0.131165   \n",
       "device_type               0.106015  0.163287  0.056523 -0.020130  0.175760   \n",
       "device_conn_type          1.000000  0.002294  0.051213 -0.014208 -0.007743   \n",
       "C14                       0.002294  1.000000 -0.071252  0.054249  0.976833   \n",
       "C15                       0.051213 -0.071252  1.000000 -0.264611 -0.084087   \n",
       "C16                      -0.014208  0.054249 -0.264611  1.000000  0.071555   \n",
       "C17                      -0.007743  0.976833 -0.084087  0.071555  1.000000   \n",
       "C18                       0.009501  0.139157 -0.022744  0.192700  0.166738   \n",
       "C19                      -0.025278  0.110566  0.057104 -0.044714  0.078131   \n",
       "C20                       0.011127 -0.018561  0.022833 -0.004884 -0.036728   \n",
       "C21                       0.077320  0.390622 -0.023300 -0.229625  0.367974   \n",
       "\n",
       "                       C18       C19       C20       C21  \n",
       "id               -0.001541  0.003817  0.002947 -0.010200  \n",
       "click             0.035721  0.065797 -0.015000 -0.151854  \n",
       "hour                   NaN       NaN       NaN       NaN  \n",
       "C1                0.095982 -0.057215 -0.078781  0.112773  \n",
       "banner_pos        0.171325  0.309933  0.009787 -0.026711  \n",
       "device_type       0.163658 -0.054398 -0.063507  0.112441  \n",
       "device_conn_type  0.009501 -0.025278  0.011127  0.077320  \n",
       "C14               0.139157  0.110566 -0.018561  0.390622  \n",
       "C15              -0.022744  0.057104  0.022833 -0.023300  \n",
       "C16               0.192700 -0.044714 -0.004884 -0.229625  \n",
       "C17               0.166738  0.078131 -0.036728  0.367974  \n",
       "C18               1.000000  0.231214  0.192107 -0.503631  \n",
       "C19               0.231214  1.000000  0.213281 -0.301911  \n",
       "C20               0.192107  0.213281  1.000000 -0.227524  \n",
       "C21              -0.503631 -0.301911 -0.227524  1.000000  "
      ]
     },
     "execution_count": 16,
     "metadata": {},
     "output_type": "execute_result"
    }
   ],
   "source": [
    "data.corr()"
   ]
  },
  {
   "cell_type": "code",
   "execution_count": 17,
   "metadata": {},
   "outputs": [
    {
     "data": {
      "text/plain": [
       "1    9273\n",
       "0     381\n",
       "4     321\n",
       "5      25\n",
       "Name: device_type, dtype: int64"
      ]
     },
     "execution_count": 17,
     "metadata": {},
     "output_type": "execute_result"
    }
   ],
   "source": [
    "data['device_type'].value_counts()"
   ]
  },
  {
   "cell_type": "code",
   "execution_count": 18,
   "metadata": {},
   "outputs": [],
   "source": [
    "import seaborn as sns"
   ]
  },
  {
   "cell_type": "code",
   "execution_count": 19,
   "metadata": {},
   "outputs": [
    {
     "data": {
      "text/plain": [
       "<matplotlib.axes._subplots.AxesSubplot at 0x20006a1f278>"
      ]
     },
     "execution_count": 19,
     "metadata": {},
     "output_type": "execute_result"
    },
    {
     "data": {
      "image/png": "[encoded data removed]",
      "text/plain": [
       "<Figure size 432x288 with 2 Axes>"
      ]
     },
     "metadata": {
      "needs_background": "light"
     },
     "output_type": "display_data"
    }
   ],
   "source": [
    "corr = data.corr()\n",
    "sns.heatmap(corr,xticklabels=corr.columns,yticklabels=corr.columns)"
   ]
  },
  {
   "cell_type": "code",
   "execution_count": 20,
   "metadata": {},
   "outputs": [
    {
     "name": "stderr",
     "output_type": "stream",
     "text": [
      "F:\\anaconda\\lib\\site-packages\\pandas\\core\\frame.py:3697: SettingWithCopyWarning: \n",
      "A value is trying to be set on a copy of a slice from a DataFrame\n",
      "\n",
      "See the caveats in the documentation: http://pandas.pydata.org/pandas-docs/stable/indexing.html#indexing-view-versus-copy\n",
      "  errors=errors)\n"
     ]
    }
   ],
   "source": [
    "data.drop(columns=['hour'],inplace=True)"
   ]
  },
  {
   "cell_type": "code",
   "execution_count": 14,
   "metadata": {},
   "outputs": [
    {
     "data": {
      "text/html": [
       "<div>\n",
       "<style scoped>\n",
       "    .dataframe tbody tr th:only-of-type {\n",
       "        vertical-align: middle;\n",
       "    }\n",
       "\n",
       "    .dataframe tbody tr th {\n",
       "        vertical-align: top;\n",
       "    }\n",
       "\n",
       "    .dataframe thead th {\n",
       "        text-align: right;\n",
       "    }\n",
       "</style>\n",
       "<table border=\"1\" class=\"dataframe\">\n",
       "  <thead>\n",
       "    <tr style=\"text-align: right;\">\n",
       "      <th>click</th>\n",
       "      <th>0</th>\n",
       "      <th>1</th>\n",
       "    </tr>\n",
       "    <tr>\n",
       "      <th>device_type</th>\n",
       "      <th></th>\n",
       "      <th></th>\n",
       "    </tr>\n",
       "  </thead>\n",
       "  <tbody>\n",
       "    <tr>\n",
       "      <th>0</th>\n",
       "      <td>303</td>\n",
       "      <td>78</td>\n",
       "    </tr>\n",
       "    <tr>\n",
       "      <th>1</th>\n",
       "      <td>7669</td>\n",
       "      <td>1604</td>\n",
       "    </tr>\n",
       "    <tr>\n",
       "      <th>4</th>\n",
       "      <td>297</td>\n",
       "      <td>24</td>\n",
       "    </tr>\n",
       "    <tr>\n",
       "      <th>5</th>\n",
       "      <td>25</td>\n",
       "      <td>0</td>\n",
       "    </tr>\n",
       "  </tbody>\n",
       "</table>\n",
       "</div>"
      ],
      "text/plain": [
       "click           0     1\n",
       "device_type            \n",
       "0             303    78\n",
       "1            7669  1604\n",
       "4             297    24\n",
       "5              25     0"
      ]
     },
     "execution_count": 14,
     "metadata": {},
     "output_type": "execute_result"
    }
   ],
   "source": [
    "device_type_table=pd.crosstab(index=data['device_type'],columns=data['click'])\n",
    "device_type_table\n"
   ]
  },
  {
   "cell_type": "code",
   "execution_count": 15,
   "metadata": {},
   "outputs": [
    {
     "data": {
      "text/plain": [
       "0.1706"
      ]
     },
     "execution_count": 15,
     "metadata": {},
     "output_type": "execute_result"
    }
   ],
   "source": [
    "#from the above we can see that device 1 has more ctr\n",
    "data['click'].mean()\n"
   ]
  },
  {
   "cell_type": "code",
   "execution_count": 16,
   "metadata": {},
   "outputs": [],
   "source": [
    "#this means only 17% of the ads are clicked and remaining 83% are un-clicked."
   ]
  },
  {
   "cell_type": "code",
   "execution_count": 17,
   "metadata": {},
   "outputs": [
    {
     "data": {
      "text/html": [
       "<div>\n",
       "<style scoped>\n",
       "    .dataframe tbody tr th:only-of-type {\n",
       "        vertical-align: middle;\n",
       "    }\n",
       "\n",
       "    .dataframe tbody tr th {\n",
       "        vertical-align: top;\n",
       "    }\n",
       "\n",
       "    .dataframe thead th {\n",
       "        text-align: right;\n",
       "    }\n",
       "</style>\n",
       "<table border=\"1\" class=\"dataframe\">\n",
       "  <thead>\n",
       "    <tr style=\"text-align: right;\">\n",
       "      <th></th>\n",
       "      <th>id</th>\n",
       "      <th>click</th>\n",
       "      <th>C1</th>\n",
       "      <th>banner_pos</th>\n",
       "      <th>device_type</th>\n",
       "      <th>device_conn_type</th>\n",
       "      <th>C14</th>\n",
       "      <th>C15</th>\n",
       "      <th>C16</th>\n",
       "      <th>C17</th>\n",
       "      <th>C18</th>\n",
       "      <th>C19</th>\n",
       "      <th>C20</th>\n",
       "      <th>C21</th>\n",
       "    </tr>\n",
       "  </thead>\n",
       "  <tbody>\n",
       "    <tr>\n",
       "      <th>id</th>\n",
       "      <td>1.000000</td>\n",
       "      <td>0.005137</td>\n",
       "      <td>-0.004291</td>\n",
       "      <td>-0.010456</td>\n",
       "      <td>0.000488</td>\n",
       "      <td>0.000588</td>\n",
       "      <td>0.011745</td>\n",
       "      <td>-0.002437</td>\n",
       "      <td>0.004782</td>\n",
       "      <td>0.012280</td>\n",
       "      <td>-0.001541</td>\n",
       "      <td>0.003817</td>\n",
       "      <td>0.002947</td>\n",
       "      <td>-0.010200</td>\n",
       "    </tr>\n",
       "    <tr>\n",
       "      <th>click</th>\n",
       "      <td>0.005137</td>\n",
       "      <td>1.000000</td>\n",
       "      <td>-0.051617</td>\n",
       "      <td>0.025473</td>\n",
       "      <td>-0.054034</td>\n",
       "      <td>-0.030382</td>\n",
       "      <td>-0.087630</td>\n",
       "      <td>-0.061522</td>\n",
       "      <td>0.139553</td>\n",
       "      <td>-0.081150</td>\n",
       "      <td>0.035721</td>\n",
       "      <td>0.065797</td>\n",
       "      <td>-0.015000</td>\n",
       "      <td>-0.151854</td>\n",
       "    </tr>\n",
       "    <tr>\n",
       "      <th>C1</th>\n",
       "      <td>-0.004291</td>\n",
       "      <td>-0.051617</td>\n",
       "      <td>1.000000</td>\n",
       "      <td>0.367787</td>\n",
       "      <td>0.966383</td>\n",
       "      <td>0.116743</td>\n",
       "      <td>0.127260</td>\n",
       "      <td>0.052628</td>\n",
       "      <td>-0.009144</td>\n",
       "      <td>0.134909</td>\n",
       "      <td>0.095982</td>\n",
       "      <td>-0.057215</td>\n",
       "      <td>-0.078781</td>\n",
       "      <td>0.112773</td>\n",
       "    </tr>\n",
       "    <tr>\n",
       "      <th>banner_pos</th>\n",
       "      <td>-0.010456</td>\n",
       "      <td>0.025473</td>\n",
       "      <td>0.367787</td>\n",
       "      <td>1.000000</td>\n",
       "      <td>0.381344</td>\n",
       "      <td>0.050581</td>\n",
       "      <td>0.139898</td>\n",
       "      <td>-0.058082</td>\n",
       "      <td>-0.095423</td>\n",
       "      <td>0.131165</td>\n",
       "      <td>0.171325</td>\n",
       "      <td>0.309933</td>\n",
       "      <td>0.009787</td>\n",
       "      <td>-0.026711</td>\n",
       "    </tr>\n",
       "    <tr>\n",
       "      <th>device_type</th>\n",
       "      <td>0.000488</td>\n",
       "      <td>-0.054034</td>\n",
       "      <td>0.966383</td>\n",
       "      <td>0.381344</td>\n",
       "      <td>1.000000</td>\n",
       "      <td>0.106015</td>\n",
       "      <td>0.163287</td>\n",
       "      <td>0.056523</td>\n",
       "      <td>-0.020130</td>\n",
       "      <td>0.175760</td>\n",
       "      <td>0.163658</td>\n",
       "      <td>-0.054398</td>\n",
       "      <td>-0.063507</td>\n",
       "      <td>0.112441</td>\n",
       "    </tr>\n",
       "    <tr>\n",
       "      <th>device_conn_type</th>\n",
       "      <td>0.000588</td>\n",
       "      <td>-0.030382</td>\n",
       "      <td>0.116743</td>\n",
       "      <td>0.050581</td>\n",
       "      <td>0.106015</td>\n",
       "      <td>1.000000</td>\n",
       "      <td>0.002294</td>\n",
       "      <td>0.051213</td>\n",
       "      <td>-0.014208</td>\n",
       "      <td>-0.007743</td>\n",
       "      <td>0.009501</td>\n",
       "      <td>-0.025278</td>\n",
       "      <td>0.011127</td>\n",
       "      <td>0.077320</td>\n",
       "    </tr>\n",
       "    <tr>\n",
       "      <th>C14</th>\n",
       "      <td>0.011745</td>\n",
       "      <td>-0.087630</td>\n",
       "      <td>0.127260</td>\n",
       "      <td>0.139898</td>\n",
       "      <td>0.163287</td>\n",
       "      <td>0.002294</td>\n",
       "      <td>1.000000</td>\n",
       "      <td>-0.071252</td>\n",
       "      <td>0.054249</td>\n",
       "      <td>0.976833</td>\n",
       "      <td>0.139157</td>\n",
       "      <td>0.110566</td>\n",
       "      <td>-0.018561</td>\n",
       "      <td>0.390622</td>\n",
       "    </tr>\n",
       "    <tr>\n",
       "      <th>C15</th>\n",
       "      <td>-0.002437</td>\n",
       "      <td>-0.061522</td>\n",
       "      <td>0.052628</td>\n",
       "      <td>-0.058082</td>\n",
       "      <td>0.056523</td>\n",
       "      <td>0.051213</td>\n",
       "      <td>-0.071252</td>\n",
       "      <td>1.000000</td>\n",
       "      <td>-0.264611</td>\n",
       "      <td>-0.084087</td>\n",
       "      <td>-0.022744</td>\n",
       "      <td>0.057104</td>\n",
       "      <td>0.022833</td>\n",
       "      <td>-0.023300</td>\n",
       "    </tr>\n",
       "    <tr>\n",
       "      <th>C16</th>\n",
       "      <td>0.004782</td>\n",
       "      <td>0.139553</td>\n",
       "      <td>-0.009144</td>\n",
       "      <td>-0.095423</td>\n",
       "      <td>-0.020130</td>\n",
       "      <td>-0.014208</td>\n",
       "      <td>0.054249</td>\n",
       "      <td>-0.264611</td>\n",
       "      <td>1.000000</td>\n",
       "      <td>0.071555</td>\n",
       "      <td>0.192700</td>\n",
       "      <td>-0.044714</td>\n",
       "      <td>-0.004884</td>\n",
       "      <td>-0.229625</td>\n",
       "    </tr>\n",
       "    <tr>\n",
       "      <th>C17</th>\n",
       "      <td>0.012280</td>\n",
       "      <td>-0.081150</td>\n",
       "      <td>0.134909</td>\n",
       "      <td>0.131165</td>\n",
       "      <td>0.175760</td>\n",
       "      <td>-0.007743</td>\n",
       "      <td>0.976833</td>\n",
       "      <td>-0.084087</td>\n",
       "      <td>0.071555</td>\n",
       "      <td>1.000000</td>\n",
       "      <td>0.166738</td>\n",
       "      <td>0.078131</td>\n",
       "      <td>-0.036728</td>\n",
       "      <td>0.367974</td>\n",
       "    </tr>\n",
       "    <tr>\n",
       "      <th>C18</th>\n",
       "      <td>-0.001541</td>\n",
       "      <td>0.035721</td>\n",
       "      <td>0.095982</td>\n",
       "      <td>0.171325</td>\n",
       "      <td>0.163658</td>\n",
       "      <td>0.009501</td>\n",
       "      <td>0.139157</td>\n",
       "      <td>-0.022744</td>\n",
       "      <td>0.192700</td>\n",
       "      <td>0.166738</td>\n",
       "      <td>1.000000</td>\n",
       "      <td>0.231214</td>\n",
       "      <td>0.192107</td>\n",
       "      <td>-0.503631</td>\n",
       "    </tr>\n",
       "    <tr>\n",
       "      <th>C19</th>\n",
       "      <td>0.003817</td>\n",
       "      <td>0.065797</td>\n",
       "      <td>-0.057215</td>\n",
       "      <td>0.309933</td>\n",
       "      <td>-0.054398</td>\n",
       "      <td>-0.025278</td>\n",
       "      <td>0.110566</td>\n",
       "      <td>0.057104</td>\n",
       "      <td>-0.044714</td>\n",
       "      <td>0.078131</td>\n",
       "      <td>0.231214</td>\n",
       "      <td>1.000000</td>\n",
       "      <td>0.213281</td>\n",
       "      <td>-0.301911</td>\n",
       "    </tr>\n",
       "    <tr>\n",
       "      <th>C20</th>\n",
       "      <td>0.002947</td>\n",
       "      <td>-0.015000</td>\n",
       "      <td>-0.078781</td>\n",
       "      <td>0.009787</td>\n",
       "      <td>-0.063507</td>\n",
       "      <td>0.011127</td>\n",
       "      <td>-0.018561</td>\n",
       "      <td>0.022833</td>\n",
       "      <td>-0.004884</td>\n",
       "      <td>-0.036728</td>\n",
       "      <td>0.192107</td>\n",
       "      <td>0.213281</td>\n",
       "      <td>1.000000</td>\n",
       "      <td>-0.227524</td>\n",
       "    </tr>\n",
       "    <tr>\n",
       "      <th>C21</th>\n",
       "      <td>-0.010200</td>\n",
       "      <td>-0.151854</td>\n",
       "      <td>0.112773</td>\n",
       "      <td>-0.026711</td>\n",
       "      <td>0.112441</td>\n",
       "      <td>0.077320</td>\n",
       "      <td>0.390622</td>\n",
       "      <td>-0.023300</td>\n",
       "      <td>-0.229625</td>\n",
       "      <td>0.367974</td>\n",
       "      <td>-0.503631</td>\n",
       "      <td>-0.301911</td>\n",
       "      <td>-0.227524</td>\n",
       "      <td>1.000000</td>\n",
       "    </tr>\n",
       "  </tbody>\n",
       "</table>\n",
       "</div>"
      ],
      "text/plain": [
       "                        id     click        C1  banner_pos  device_type  \\\n",
       "id                1.000000  0.005137 -0.004291   -0.010456     0.000488   \n",
       "click             0.005137  1.000000 -0.051617    0.025473    -0.054034   \n",
       "C1               -0.004291 -0.051617  1.000000    0.367787     0.966383   \n",
       "banner_pos       -0.010456  0.025473  0.367787    1.000000     0.381344   \n",
       "device_type       0.000488 -0.054034  0.966383    0.381344     1.000000   \n",
       "device_conn_type  0.000588 -0.030382  0.116743    0.050581     0.106015   \n",
       "C14               0.011745 -0.087630  0.127260    0.139898     0.163287   \n",
       "C15              -0.002437 -0.061522  0.052628   -0.058082     0.056523   \n",
       "C16               0.004782  0.139553 -0.009144   -0.095423    -0.020130   \n",
       "C17               0.012280 -0.081150  0.134909    0.131165     0.175760   \n",
       "C18              -0.001541  0.035721  0.095982    0.171325     0.163658   \n",
       "C19               0.003817  0.065797 -0.057215    0.309933    -0.054398   \n",
       "C20               0.002947 -0.015000 -0.078781    0.009787    -0.063507   \n",
       "C21              -0.010200 -0.151854  0.112773   -0.026711     0.112441   \n",
       "\n",
       "                  device_conn_type       C14       C15       C16       C17  \\\n",
       "id                        0.000588  0.011745 -0.002437  0.004782  0.012280   \n",
       "click                    -0.030382 -0.087630 -0.061522  0.139553 -0.081150   \n",
       "C1                        0.116743  0.127260  0.052628 -0.009144  0.134909   \n",
       "banner_pos                0.050581  0.139898 -0.058082 -0.095423  0.131165   \n",
       "device_type               0.106015  0.163287  0.056523 -0.020130  0.175760   \n",
       "device_conn_type          1.000000  0.002294  0.051213 -0.014208 -0.007743   \n",
       "C14                       0.002294  1.000000 -0.071252  0.054249  0.976833   \n",
       "C15                       0.051213 -0.071252  1.000000 -0.264611 -0.084087   \n",
       "C16                      -0.014208  0.054249 -0.264611  1.000000  0.071555   \n",
       "C17                      -0.007743  0.976833 -0.084087  0.071555  1.000000   \n",
       "C18                       0.009501  0.139157 -0.022744  0.192700  0.166738   \n",
       "C19                      -0.025278  0.110566  0.057104 -0.044714  0.078131   \n",
       "C20                       0.011127 -0.018561  0.022833 -0.004884 -0.036728   \n",
       "C21                       0.077320  0.390622 -0.023300 -0.229625  0.367974   \n",
       "\n",
       "                       C18       C19       C20       C21  \n",
       "id               -0.001541  0.003817  0.002947 -0.010200  \n",
       "click             0.035721  0.065797 -0.015000 -0.151854  \n",
       "C1                0.095982 -0.057215 -0.078781  0.112773  \n",
       "banner_pos        0.171325  0.309933  0.009787 -0.026711  \n",
       "device_type       0.163658 -0.054398 -0.063507  0.112441  \n",
       "device_conn_type  0.009501 -0.025278  0.011127  0.077320  \n",
       "C14               0.139157  0.110566 -0.018561  0.390622  \n",
       "C15              -0.022744  0.057104  0.022833 -0.023300  \n",
       "C16               0.192700 -0.044714 -0.004884 -0.229625  \n",
       "C17               0.166738  0.078131 -0.036728  0.367974  \n",
       "C18               1.000000  0.231214  0.192107 -0.503631  \n",
       "C19               0.231214  1.000000  0.213281 -0.301911  \n",
       "C20               0.192107  0.213281  1.000000 -0.227524  \n",
       "C21              -0.503631 -0.301911 -0.227524  1.000000  "
      ]
     },
     "execution_count": 17,
     "metadata": {},
     "output_type": "execute_result"
    }
   ],
   "source": [
    "data.corr()"
   ]
  },
  {
   "cell_type": "code",
   "execution_count": 22,
   "metadata": {},
   "outputs": [],
   "source": [
    "#as there are 4 unique values for the device type may the perspective of clicking the ads,may change via device"
   ]
  },
  {
   "cell_type": "markdown",
   "metadata": {},
   "source": [
    "From the correlation we assess that highest positive correlation exists between c1 and banner_pos.\n",
    "And c16 has some weak positive correlation with the click target variable."
   ]
  },
  {
   "cell_type": "code",
   "execution_count": 24,
   "metadata": {},
   "outputs": [
    {
     "data": {
      "text/plain": [
       "id                  0\n",
       "click               0\n",
       "C1                  0\n",
       "banner_pos          0\n",
       "site_id             0\n",
       "site_domain         0\n",
       "site_category       0\n",
       "app_id              0\n",
       "app_domain          0\n",
       "app_category        0\n",
       "device_id           0\n",
       "device_ip           0\n",
       "device_model        0\n",
       "device_type         0\n",
       "device_conn_type    0\n",
       "C14                 0\n",
       "C15                 0\n",
       "C16                 0\n",
       "C17                 0\n",
       "C18                 0\n",
       "C19                 0\n",
       "C20                 0\n",
       "C21                 0\n",
       "dtype: int64"
      ]
     },
     "execution_count": 24,
     "metadata": {},
     "output_type": "execute_result"
    }
   ],
   "source": [
    "data.isnull().sum()"
   ]
  },
  {
   "cell_type": "code",
   "execution_count": 25,
   "metadata": {},
   "outputs": [
    {
     "data": {
      "text/plain": [
       "id                  float64\n",
       "click                 int64\n",
       "C1                    int64\n",
       "banner_pos            int64\n",
       "site_id              object\n",
       "site_domain          object\n",
       "site_category        object\n",
       "app_id               object\n",
       "app_domain           object\n",
       "app_category         object\n",
       "device_id            object\n",
       "device_ip            object\n",
       "device_model         object\n",
       "device_type           int64\n",
       "device_conn_type      int64\n",
       "C14                   int64\n",
       "C15                   int64\n",
       "C16                   int64\n",
       "C17                   int64\n",
       "C18                   int64\n",
       "C19                   int64\n",
       "C20                   int64\n",
       "C21                   int64\n",
       "dtype: object"
      ]
     },
     "execution_count": 25,
     "metadata": {},
     "output_type": "execute_result"
    }
   ],
   "source": [
    "data.dtypes"
   ]
  },
  {
   "cell_type": "code",
   "execution_count": 26,
   "metadata": {},
   "outputs": [
    {
     "data": {
      "text/html": [
       "<div>\n",
       "<style scoped>\n",
       "    .dataframe tbody tr th:only-of-type {\n",
       "        vertical-align: middle;\n",
       "    }\n",
       "\n",
       "    .dataframe tbody tr th {\n",
       "        vertical-align: top;\n",
       "    }\n",
       "\n",
       "    .dataframe thead th {\n",
       "        text-align: right;\n",
       "    }\n",
       "</style>\n",
       "<table border=\"1\" class=\"dataframe\">\n",
       "  <thead>\n",
       "    <tr style=\"text-align: right;\">\n",
       "      <th></th>\n",
       "      <th>id</th>\n",
       "      <th>click</th>\n",
       "      <th>C1</th>\n",
       "      <th>banner_pos</th>\n",
       "      <th>site_id</th>\n",
       "      <th>site_domain</th>\n",
       "      <th>site_category</th>\n",
       "      <th>app_id</th>\n",
       "      <th>app_domain</th>\n",
       "      <th>app_category</th>\n",
       "      <th>...</th>\n",
       "      <th>device_type</th>\n",
       "      <th>device_conn_type</th>\n",
       "      <th>C14</th>\n",
       "      <th>C15</th>\n",
       "      <th>C16</th>\n",
       "      <th>C17</th>\n",
       "      <th>C18</th>\n",
       "      <th>C19</th>\n",
       "      <th>C20</th>\n",
       "      <th>C21</th>\n",
       "    </tr>\n",
       "  </thead>\n",
       "  <tbody>\n",
       "    <tr>\n",
       "      <th>0</th>\n",
       "      <td>1.000009e+18</td>\n",
       "      <td>0</td>\n",
       "      <td>1005</td>\n",
       "      <td>0</td>\n",
       "      <td>1fbe01fe</td>\n",
       "      <td>f3845767</td>\n",
       "      <td>28905ebd</td>\n",
       "      <td>ecad2386</td>\n",
       "      <td>7801e8d9</td>\n",
       "      <td>07d7df22</td>\n",
       "      <td>...</td>\n",
       "      <td>1</td>\n",
       "      <td>2</td>\n",
       "      <td>15706</td>\n",
       "      <td>320</td>\n",
       "      <td>50</td>\n",
       "      <td>1722</td>\n",
       "      <td>0</td>\n",
       "      <td>35</td>\n",
       "      <td>-1</td>\n",
       "      <td>79</td>\n",
       "    </tr>\n",
       "    <tr>\n",
       "      <th>1</th>\n",
       "      <td>1.000017e+19</td>\n",
       "      <td>0</td>\n",
       "      <td>1005</td>\n",
       "      <td>0</td>\n",
       "      <td>1fbe01fe</td>\n",
       "      <td>f3845767</td>\n",
       "      <td>28905ebd</td>\n",
       "      <td>ecad2386</td>\n",
       "      <td>7801e8d9</td>\n",
       "      <td>07d7df22</td>\n",
       "      <td>...</td>\n",
       "      <td>1</td>\n",
       "      <td>0</td>\n",
       "      <td>15704</td>\n",
       "      <td>320</td>\n",
       "      <td>50</td>\n",
       "      <td>1722</td>\n",
       "      <td>0</td>\n",
       "      <td>35</td>\n",
       "      <td>100084</td>\n",
       "      <td>79</td>\n",
       "    </tr>\n",
       "    <tr>\n",
       "      <th>2</th>\n",
       "      <td>1.000037e+19</td>\n",
       "      <td>0</td>\n",
       "      <td>1005</td>\n",
       "      <td>0</td>\n",
       "      <td>1fbe01fe</td>\n",
       "      <td>f3845767</td>\n",
       "      <td>28905ebd</td>\n",
       "      <td>ecad2386</td>\n",
       "      <td>7801e8d9</td>\n",
       "      <td>07d7df22</td>\n",
       "      <td>...</td>\n",
       "      <td>1</td>\n",
       "      <td>0</td>\n",
       "      <td>15704</td>\n",
       "      <td>320</td>\n",
       "      <td>50</td>\n",
       "      <td>1722</td>\n",
       "      <td>0</td>\n",
       "      <td>35</td>\n",
       "      <td>100084</td>\n",
       "      <td>79</td>\n",
       "    </tr>\n",
       "    <tr>\n",
       "      <th>3</th>\n",
       "      <td>1.000064e+19</td>\n",
       "      <td>0</td>\n",
       "      <td>1005</td>\n",
       "      <td>0</td>\n",
       "      <td>1fbe01fe</td>\n",
       "      <td>f3845767</td>\n",
       "      <td>28905ebd</td>\n",
       "      <td>ecad2386</td>\n",
       "      <td>7801e8d9</td>\n",
       "      <td>07d7df22</td>\n",
       "      <td>...</td>\n",
       "      <td>1</td>\n",
       "      <td>0</td>\n",
       "      <td>15706</td>\n",
       "      <td>320</td>\n",
       "      <td>50</td>\n",
       "      <td>1722</td>\n",
       "      <td>0</td>\n",
       "      <td>35</td>\n",
       "      <td>100084</td>\n",
       "      <td>79</td>\n",
       "    </tr>\n",
       "    <tr>\n",
       "      <th>4</th>\n",
       "      <td>1.000068e+19</td>\n",
       "      <td>0</td>\n",
       "      <td>1005</td>\n",
       "      <td>1</td>\n",
       "      <td>fe8cc448</td>\n",
       "      <td>9166c161</td>\n",
       "      <td>0569f928</td>\n",
       "      <td>ecad2386</td>\n",
       "      <td>7801e8d9</td>\n",
       "      <td>07d7df22</td>\n",
       "      <td>...</td>\n",
       "      <td>1</td>\n",
       "      <td>0</td>\n",
       "      <td>18993</td>\n",
       "      <td>320</td>\n",
       "      <td>50</td>\n",
       "      <td>2161</td>\n",
       "      <td>0</td>\n",
       "      <td>35</td>\n",
       "      <td>-1</td>\n",
       "      <td>157</td>\n",
       "    </tr>\n",
       "  </tbody>\n",
       "</table>\n",
       "<p>5 rows × 23 columns</p>\n",
       "</div>"
      ],
      "text/plain": [
       "             id  click    C1  banner_pos   site_id site_domain site_category  \\\n",
       "0  1.000009e+18      0  1005           0  1fbe01fe    f3845767      28905ebd   \n",
       "1  1.000017e+19      0  1005           0  1fbe01fe    f3845767      28905ebd   \n",
       "2  1.000037e+19      0  1005           0  1fbe01fe    f3845767      28905ebd   \n",
       "3  1.000064e+19      0  1005           0  1fbe01fe    f3845767      28905ebd   \n",
       "4  1.000068e+19      0  1005           1  fe8cc448    9166c161      0569f928   \n",
       "\n",
       "     app_id app_domain app_category ...  device_type device_conn_type    C14  \\\n",
       "0  ecad2386   7801e8d9     07d7df22 ...            1                2  15706   \n",
       "1  ecad2386   7801e8d9     07d7df22 ...            1                0  15704   \n",
       "2  ecad2386   7801e8d9     07d7df22 ...            1                0  15704   \n",
       "3  ecad2386   7801e8d9     07d7df22 ...            1                0  15706   \n",
       "4  ecad2386   7801e8d9     07d7df22 ...            1                0  18993   \n",
       "\n",
       "   C15  C16   C17  C18  C19     C20  C21  \n",
       "0  320   50  1722    0   35      -1   79  \n",
       "1  320   50  1722    0   35  100084   79  \n",
       "2  320   50  1722    0   35  100084   79  \n",
       "3  320   50  1722    0   35  100084   79  \n",
       "4  320   50  2161    0   35      -1  157  \n",
       "\n",
       "[5 rows x 23 columns]"
      ]
     },
     "execution_count": 26,
     "metadata": {},
     "output_type": "execute_result"
    }
   ],
   "source": [
    "\n",
    "data.head()"
   ]
  },
  {
   "cell_type": "code",
   "execution_count": 12,
   "metadata": {},
   "outputs": [
    {
     "data": {
      "text/plain": [
       "50     9568\n",
       "250     348\n",
       "36       79\n",
       "480       3\n",
       "90        2\n",
       "Name: C16, dtype: int64"
      ]
     },
     "execution_count": 12,
     "metadata": {},
     "output_type": "execute_result"
    }
   ],
   "source": [
    "data['C16'].value_counts()"
   ]
  },
  {
   "cell_type": "code",
   "execution_count": 13,
   "metadata": {},
   "outputs": [
    {
     "data": {
      "text/plain": [
       "79     3908\n",
       "157    2393\n",
       "23      736\n",
       "61      685\n",
       "33      477\n",
       "117     393\n",
       "32      332\n",
       "48      287\n",
       "52      128\n",
       "46      109\n",
       "156      91\n",
       "91       77\n",
       "16       71\n",
       "13       62\n",
       "95       51\n",
       "71       49\n",
       "15       42\n",
       "101      31\n",
       "42       17\n",
       "93       13\n",
       "100      12\n",
       "82       11\n",
       "111       9\n",
       "94        6\n",
       "116       4\n",
       "70        3\n",
       "85        1\n",
       "68        1\n",
       "20        1\n",
       "Name: C21, dtype: int64"
      ]
     },
     "execution_count": 13,
     "metadata": {},
     "output_type": "execute_result"
    }
   ],
   "source": [
    "data['C21'].value_counts()"
   ]
  },
  {
   "cell_type": "code",
   "execution_count": 15,
   "metadata": {},
   "outputs": [
    {
     "data": {
      "text/plain": [
       "1005    9256\n",
       "1002     381\n",
       "1010     346\n",
       "1007      11\n",
       "1001       4\n",
       "1008       2\n",
       "Name: C1, dtype: int64"
      ]
     },
     "execution_count": 15,
     "metadata": {},
     "output_type": "execute_result"
    }
   ],
   "source": [
    "data['C1'].value_counts()"
   ]
  },
  {
   "cell_type": "code",
   "execution_count": 27,
   "metadata": {},
   "outputs": [
    {
     "name": "stderr",
     "output_type": "stream",
     "text": [
      "F:\\anaconda\\lib\\site-packages\\pandas\\core\\frame.py:3697: SettingWithCopyWarning: \n",
      "A value is trying to be set on a copy of a slice from a DataFrame\n",
      "\n",
      "See the caveats in the documentation: http://pandas.pydata.org/pandas-docs/stable/indexing.html#indexing-view-versus-copy\n",
      "  errors=errors)\n"
     ]
    }
   ],
   "source": [
    "data.drop(columns=['id'],inplace=True)\n"
   ]
  },
  {
   "cell_type": "code",
   "execution_count": 28,
   "metadata": {},
   "outputs": [
    {
     "data": {
      "text/html": [
       "<div>\n",
       "<style scoped>\n",
       "    .dataframe tbody tr th:only-of-type {\n",
       "        vertical-align: middle;\n",
       "    }\n",
       "\n",
       "    .dataframe tbody tr th {\n",
       "        vertical-align: top;\n",
       "    }\n",
       "\n",
       "    .dataframe thead th {\n",
       "        text-align: right;\n",
       "    }\n",
       "</style>\n",
       "<table border=\"1\" class=\"dataframe\">\n",
       "  <thead>\n",
       "    <tr style=\"text-align: right;\">\n",
       "      <th></th>\n",
       "      <th>click</th>\n",
       "      <th>C1</th>\n",
       "      <th>banner_pos</th>\n",
       "      <th>site_id</th>\n",
       "      <th>site_domain</th>\n",
       "      <th>site_category</th>\n",
       "      <th>app_id</th>\n",
       "      <th>app_domain</th>\n",
       "      <th>app_category</th>\n",
       "      <th>device_id</th>\n",
       "      <th>...</th>\n",
       "      <th>device_type</th>\n",
       "      <th>device_conn_type</th>\n",
       "      <th>C14</th>\n",
       "      <th>C15</th>\n",
       "      <th>C16</th>\n",
       "      <th>C17</th>\n",
       "      <th>C18</th>\n",
       "      <th>C19</th>\n",
       "      <th>C20</th>\n",
       "      <th>C21</th>\n",
       "    </tr>\n",
       "  </thead>\n",
       "  <tbody>\n",
       "    <tr>\n",
       "      <th>0</th>\n",
       "      <td>0</td>\n",
       "      <td>1005</td>\n",
       "      <td>0</td>\n",
       "      <td>1fbe01fe</td>\n",
       "      <td>f3845767</td>\n",
       "      <td>28905ebd</td>\n",
       "      <td>ecad2386</td>\n",
       "      <td>7801e8d9</td>\n",
       "      <td>07d7df22</td>\n",
       "      <td>a99f214a</td>\n",
       "      <td>...</td>\n",
       "      <td>1</td>\n",
       "      <td>2</td>\n",
       "      <td>15706</td>\n",
       "      <td>320</td>\n",
       "      <td>50</td>\n",
       "      <td>1722</td>\n",
       "      <td>0</td>\n",
       "      <td>35</td>\n",
       "      <td>-1</td>\n",
       "      <td>79</td>\n",
       "    </tr>\n",
       "    <tr>\n",
       "      <th>1</th>\n",
       "      <td>0</td>\n",
       "      <td>1005</td>\n",
       "      <td>0</td>\n",
       "      <td>1fbe01fe</td>\n",
       "      <td>f3845767</td>\n",
       "      <td>28905ebd</td>\n",
       "      <td>ecad2386</td>\n",
       "      <td>7801e8d9</td>\n",
       "      <td>07d7df22</td>\n",
       "      <td>a99f214a</td>\n",
       "      <td>...</td>\n",
       "      <td>1</td>\n",
       "      <td>0</td>\n",
       "      <td>15704</td>\n",
       "      <td>320</td>\n",
       "      <td>50</td>\n",
       "      <td>1722</td>\n",
       "      <td>0</td>\n",
       "      <td>35</td>\n",
       "      <td>100084</td>\n",
       "      <td>79</td>\n",
       "    </tr>\n",
       "    <tr>\n",
       "      <th>2</th>\n",
       "      <td>0</td>\n",
       "      <td>1005</td>\n",
       "      <td>0</td>\n",
       "      <td>1fbe01fe</td>\n",
       "      <td>f3845767</td>\n",
       "      <td>28905ebd</td>\n",
       "      <td>ecad2386</td>\n",
       "      <td>7801e8d9</td>\n",
       "      <td>07d7df22</td>\n",
       "      <td>a99f214a</td>\n",
       "      <td>...</td>\n",
       "      <td>1</td>\n",
       "      <td>0</td>\n",
       "      <td>15704</td>\n",
       "      <td>320</td>\n",
       "      <td>50</td>\n",
       "      <td>1722</td>\n",
       "      <td>0</td>\n",
       "      <td>35</td>\n",
       "      <td>100084</td>\n",
       "      <td>79</td>\n",
       "    </tr>\n",
       "    <tr>\n",
       "      <th>3</th>\n",
       "      <td>0</td>\n",
       "      <td>1005</td>\n",
       "      <td>0</td>\n",
       "      <td>1fbe01fe</td>\n",
       "      <td>f3845767</td>\n",
       "      <td>28905ebd</td>\n",
       "      <td>ecad2386</td>\n",
       "      <td>7801e8d9</td>\n",
       "      <td>07d7df22</td>\n",
       "      <td>a99f214a</td>\n",
       "      <td>...</td>\n",
       "      <td>1</td>\n",
       "      <td>0</td>\n",
       "      <td>15706</td>\n",
       "      <td>320</td>\n",
       "      <td>50</td>\n",
       "      <td>1722</td>\n",
       "      <td>0</td>\n",
       "      <td>35</td>\n",
       "      <td>100084</td>\n",
       "      <td>79</td>\n",
       "    </tr>\n",
       "    <tr>\n",
       "      <th>4</th>\n",
       "      <td>0</td>\n",
       "      <td>1005</td>\n",
       "      <td>1</td>\n",
       "      <td>fe8cc448</td>\n",
       "      <td>9166c161</td>\n",
       "      <td>0569f928</td>\n",
       "      <td>ecad2386</td>\n",
       "      <td>7801e8d9</td>\n",
       "      <td>07d7df22</td>\n",
       "      <td>a99f214a</td>\n",
       "      <td>...</td>\n",
       "      <td>1</td>\n",
       "      <td>0</td>\n",
       "      <td>18993</td>\n",
       "      <td>320</td>\n",
       "      <td>50</td>\n",
       "      <td>2161</td>\n",
       "      <td>0</td>\n",
       "      <td>35</td>\n",
       "      <td>-1</td>\n",
       "      <td>157</td>\n",
       "    </tr>\n",
       "  </tbody>\n",
       "</table>\n",
       "<p>5 rows × 22 columns</p>\n",
       "</div>"
      ],
      "text/plain": [
       "   click    C1  banner_pos   site_id site_domain site_category    app_id  \\\n",
       "0      0  1005           0  1fbe01fe    f3845767      28905ebd  ecad2386   \n",
       "1      0  1005           0  1fbe01fe    f3845767      28905ebd  ecad2386   \n",
       "2      0  1005           0  1fbe01fe    f3845767      28905ebd  ecad2386   \n",
       "3      0  1005           0  1fbe01fe    f3845767      28905ebd  ecad2386   \n",
       "4      0  1005           1  fe8cc448    9166c161      0569f928  ecad2386   \n",
       "\n",
       "  app_domain app_category device_id ...  device_type device_conn_type    C14  \\\n",
       "0   7801e8d9     07d7df22  a99f214a ...            1                2  15706   \n",
       "1   7801e8d9     07d7df22  a99f214a ...            1                0  15704   \n",
       "2   7801e8d9     07d7df22  a99f214a ...            1                0  15704   \n",
       "3   7801e8d9     07d7df22  a99f214a ...            1                0  15706   \n",
       "4   7801e8d9     07d7df22  a99f214a ...            1                0  18993   \n",
       "\n",
       "   C15  C16   C17  C18  C19     C20  C21  \n",
       "0  320   50  1722    0   35      -1   79  \n",
       "1  320   50  1722    0   35  100084   79  \n",
       "2  320   50  1722    0   35  100084   79  \n",
       "3  320   50  1722    0   35  100084   79  \n",
       "4  320   50  2161    0   35      -1  157  \n",
       "\n",
       "[5 rows x 22 columns]"
      ]
     },
     "execution_count": 28,
     "metadata": {},
     "output_type": "execute_result"
    }
   ],
   "source": [
    "data.head()"
   ]
  },
  {
   "cell_type": "code",
   "execution_count": 29,
   "metadata": {},
   "outputs": [
    {
     "data": {
      "text/plain": [
       "<matplotlib.axes._subplots.AxesSubplot at 0x20006efef60>"
      ]
     },
     "execution_count": 29,
     "metadata": {},
     "output_type": "execute_result"
    },
    {
     "data": {
      "image/png": "[encoded data removed]",
      "text/plain": [
       "<Figure size 432x288 with 1 Axes>"
      ]
     },
     "metadata": {
      "needs_background": "light"
     },
     "output_type": "display_data"
    }
   ],
   "source": [
    "data['device_type'].hist(bins=10)"
   ]
  },
  {
   "cell_type": "code",
   "execution_count": 41,
   "metadata": {},
   "outputs": [
    {
     "data": {
      "text/plain": [
       "<matplotlib.axes._subplots.AxesSubplot at 0x200072211d0>"
      ]
     },
     "execution_count": 41,
     "metadata": {},
     "output_type": "execute_result"
    },
    {
     "data": {
      "image/png": "[encoded data removed]",
      "text/plain": [
       "<Figure size 432x288 with 1 Axes>"
      ]
     },
     "metadata": {
      "needs_background": "light"
     },
     "output_type": "display_data"
    }
   ],
   "source": [
    "data.banner_pos.hist(bins=10)\n"
   ]
  },
  {
   "cell_type": "code",
   "execution_count": 48,
   "metadata": {},
   "outputs": [
    {
     "data": {
      "image/png": "[encoded data removed]",
      "text/plain": [
       "<Figure size 864x432 with 1 Axes>"
      ]
     },
     "metadata": {
      "needs_background": "light"
     },
     "output_type": "display_data"
    }
   ],
   "source": [
    "data.groupby(['C1', 'click']).size().unstack().plot(kind='bar', figsize=(12,6), title='C1 histogram');"
   ]
  },
  {
   "cell_type": "code",
   "execution_count": 51,
   "metadata": {},
   "outputs": [
    {
     "data": {
      "image/png": "[encoded data removed]",
      "text/plain": [
       "<Figure size 864x432 with 1 Axes>"
      ]
     },
     "metadata": {
      "needs_background": "light"
     },
     "output_type": "display_data"
    }
   ],
   "source": [
    "data.groupby(['C16', 'click']).size().unstack().plot(kind='bar', figsize=(12,6), title='C16 histogram');"
   ]
  },
  {
   "cell_type": "code",
   "execution_count": 53,
   "metadata": {},
   "outputs": [
    {
     "data": {
      "image/png": "[encoded data removed]",
      "text/plain": [
       "<Figure size 864x432 with 1 Axes>"
      ]
     },
     "metadata": {
      "needs_background": "light"
     },
     "output_type": "display_data"
    }
   ],
   "source": [
    "data.groupby(['device_type', 'click']).size().unstack().plot(kind='bar', figsize=(12,6), title='device type histogram');"
   ]
  },
  {
   "cell_type": "code",
   "execution_count": 54,
   "metadata": {},
   "outputs": [
    {
     "data": {
      "image/png": "[encoded data removed]",
      "text/plain": [
       "<Figure size 864x432 with 1 Axes>"
      ]
     },
     "metadata": {
      "needs_background": "light"
     },
     "output_type": "display_data"
    }
   ],
   "source": [
    "data.groupby(['C21', 'click']).size().unstack().plot(kind='bar', figsize=(12,6), title='C21 histogram');"
   ]
  },
  {
   "cell_type": "code",
   "execution_count": 36,
   "metadata": {},
   "outputs": [
    {
     "data": {
      "text/html": [
       "<div>\n",
       "<style scoped>\n",
       "    .dataframe tbody tr th:only-of-type {\n",
       "        vertical-align: middle;\n",
       "    }\n",
       "\n",
       "    .dataframe tbody tr th {\n",
       "        vertical-align: top;\n",
       "    }\n",
       "\n",
       "    .dataframe thead th {\n",
       "        text-align: right;\n",
       "    }\n",
       "</style>\n",
       "<table border=\"1\" class=\"dataframe\">\n",
       "  <thead>\n",
       "    <tr style=\"text-align: right;\">\n",
       "      <th></th>\n",
       "      <th>C1</th>\n",
       "      <th>banner_pos</th>\n",
       "      <th>C16</th>\n",
       "      <th>C21</th>\n",
       "      <th>device_type</th>\n",
       "    </tr>\n",
       "  </thead>\n",
       "  <tbody>\n",
       "    <tr>\n",
       "      <th>0</th>\n",
       "      <td>1005</td>\n",
       "      <td>0</td>\n",
       "      <td>50</td>\n",
       "      <td>79</td>\n",
       "      <td>1</td>\n",
       "    </tr>\n",
       "    <tr>\n",
       "      <th>1</th>\n",
       "      <td>1005</td>\n",
       "      <td>0</td>\n",
       "      <td>50</td>\n",
       "      <td>79</td>\n",
       "      <td>1</td>\n",
       "    </tr>\n",
       "    <tr>\n",
       "      <th>2</th>\n",
       "      <td>1005</td>\n",
       "      <td>0</td>\n",
       "      <td>50</td>\n",
       "      <td>79</td>\n",
       "      <td>1</td>\n",
       "    </tr>\n",
       "    <tr>\n",
       "      <th>3</th>\n",
       "      <td>1005</td>\n",
       "      <td>0</td>\n",
       "      <td>50</td>\n",
       "      <td>79</td>\n",
       "      <td>1</td>\n",
       "    </tr>\n",
       "    <tr>\n",
       "      <th>4</th>\n",
       "      <td>1005</td>\n",
       "      <td>1</td>\n",
       "      <td>50</td>\n",
       "      <td>157</td>\n",
       "      <td>1</td>\n",
       "    </tr>\n",
       "  </tbody>\n",
       "</table>\n",
       "</div>"
      ],
      "text/plain": [
       "     C1  banner_pos  C16  C21  device_type\n",
       "0  1005           0   50   79            1\n",
       "1  1005           0   50   79            1\n",
       "2  1005           0   50   79            1\n",
       "3  1005           0   50   79            1\n",
       "4  1005           1   50  157            1"
      ]
     },
     "execution_count": 36,
     "metadata": {},
     "output_type": "execute_result"
    }
   ],
   "source": [
    "x=data[['C1','banner_pos','C16','C21','device_type']]\n",
    "x.head()"
   ]
  },
  {
   "cell_type": "code",
   "execution_count": 37,
   "metadata": {},
   "outputs": [
    {
     "data": {
      "text/plain": [
       "0    0\n",
       "1    0\n",
       "2    0\n",
       "3    0\n",
       "4    0\n",
       "Name: click, dtype: int64"
      ]
     },
     "execution_count": 37,
     "metadata": {},
     "output_type": "execute_result"
    }
   ],
   "source": [
    "y=data.iloc[;,0]\n",
    "y.head()"
   ]
  },
  {
   "cell_type": "code",
   "execution_count": 38,
   "metadata": {},
   "outputs": [
    {
     "data": {
      "text/plain": [
       "array([[0.44444444, 0.        , 0.03153153, 0.45833333, 0.2       ],\n",
       "       [0.44444444, 0.        , 0.03153153, 0.45833333, 0.2       ],\n",
       "       [0.44444444, 0.        , 0.03153153, 0.45833333, 0.2       ],\n",
       "       ...,\n",
       "       [0.44444444, 0.2       , 0.03153153, 0.72222222, 0.2       ],\n",
       "       [0.44444444, 0.        , 0.03153153, 0.33333333, 0.2       ],\n",
       "       [0.44444444, 0.        , 0.03153153, 0.33333333, 0.2       ]])"
      ]
     },
     "execution_count": 38,
     "metadata": {},
     "output_type": "execute_result"
    }
   ],
   "source": [
    "#normalising the input variables using minmax scaler preprocessing\n",
    "minmax=preprocessing.MinMaxScaler(feature_range=(0,1))\n",
    "minmax.fit(x).transform(x)"
   ]
  },
  {
   "cell_type": "code",
   "execution_count": 39,
   "metadata": {},
   "outputs": [
    {
     "name": "stderr",
     "output_type": "stream",
     "text": [
      "F:\\anaconda\\lib\\site-packages\\sklearn\\cross_validation.py:41: DeprecationWarning: This module was deprecated in version 0.18 in favor of the model_selection module into which all the refactored classes and functions are moved. Also note that the interface of the new CV iterators are different from that of this module. This module will be removed in 0.20.\n",
      "  \"This module will be removed in 0.20.\", DeprecationWarning)\n"
     ]
    }
   ],
   "source": [
    "from sklearn import model_selection, neighbors\n",
    "from sklearn.cross_validation import train_test_split\n",
    "x_train, x_test, y_train, y_test = train_test_split(x,y,test_size=0.2)"
   ]
  },
  {
   "cell_type": "code",
   "execution_count": 40,
   "metadata": {},
   "outputs": [
    {
     "data": {
      "text/html": [
       "<div>\n",
       "<style scoped>\n",
       "    .dataframe tbody tr th:only-of-type {\n",
       "        vertical-align: middle;\n",
       "    }\n",
       "\n",
       "    .dataframe tbody tr th {\n",
       "        vertical-align: top;\n",
       "    }\n",
       "\n",
       "    .dataframe thead th {\n",
       "        text-align: right;\n",
       "    }\n",
       "</style>\n",
       "<table border=\"1\" class=\"dataframe\">\n",
       "  <thead>\n",
       "    <tr style=\"text-align: right;\">\n",
       "      <th></th>\n",
       "      <th>C1</th>\n",
       "      <th>banner_pos</th>\n",
       "      <th>C16</th>\n",
       "      <th>C21</th>\n",
       "      <th>device_type</th>\n",
       "    </tr>\n",
       "  </thead>\n",
       "  <tbody>\n",
       "    <tr>\n",
       "      <th>7488</th>\n",
       "      <td>1005</td>\n",
       "      <td>0</td>\n",
       "      <td>50</td>\n",
       "      <td>95</td>\n",
       "      <td>1</td>\n",
       "    </tr>\n",
       "    <tr>\n",
       "      <th>7348</th>\n",
       "      <td>1005</td>\n",
       "      <td>0</td>\n",
       "      <td>50</td>\n",
       "      <td>79</td>\n",
       "      <td>1</td>\n",
       "    </tr>\n",
       "    <tr>\n",
       "      <th>1961</th>\n",
       "      <td>1005</td>\n",
       "      <td>1</td>\n",
       "      <td>50</td>\n",
       "      <td>48</td>\n",
       "      <td>1</td>\n",
       "    </tr>\n",
       "    <tr>\n",
       "      <th>9599</th>\n",
       "      <td>1005</td>\n",
       "      <td>0</td>\n",
       "      <td>50</td>\n",
       "      <td>91</td>\n",
       "      <td>1</td>\n",
       "    </tr>\n",
       "    <tr>\n",
       "      <th>9351</th>\n",
       "      <td>1005</td>\n",
       "      <td>0</td>\n",
       "      <td>50</td>\n",
       "      <td>79</td>\n",
       "      <td>1</td>\n",
       "    </tr>\n",
       "  </tbody>\n",
       "</table>\n",
       "</div>"
      ],
      "text/plain": [
       "        C1  banner_pos  C16  C21  device_type\n",
       "7488  1005           0   50   95            1\n",
       "7348  1005           0   50   79            1\n",
       "1961  1005           1   50   48            1\n",
       "9599  1005           0   50   91            1\n",
       "9351  1005           0   50   79            1"
      ]
     },
     "execution_count": 40,
     "metadata": {},
     "output_type": "execute_result"
    }
   ],
   "source": [
    "x_train.head()"
   ]
  },
  {
   "cell_type": "code",
   "execution_count": 41,
   "metadata": {},
   "outputs": [
    {
     "data": {
      "text/plain": [
       "7488    0\n",
       "7348    0\n",
       "1961    0\n",
       "9599    0\n",
       "9351    0\n",
       "Name: click, dtype: int64"
      ]
     },
     "execution_count": 41,
     "metadata": {},
     "output_type": "execute_result"
    }
   ],
   "source": [
    "y_train.head()"
   ]
  },
  {
   "cell_type": "markdown",
   "metadata": {},
   "source": [
    "# Logistic Regression"
   ]
  },
  {
   "cell_type": "code",
   "execution_count": 42,
   "metadata": {},
   "outputs": [],
   "source": [
    "x_train_std = minmax.fit_transform(x_train)\n",
    "x_test_std = minmax.transform(x_test)"
   ]
  },
  {
   "cell_type": "code",
   "execution_count": 43,
   "metadata": {},
   "outputs": [],
   "source": [
    "from sklearn.model_selection import cross_val_score,cross_val_predict"
   ]
  },
  {
   "cell_type": "code",
   "execution_count": 44,
   "metadata": {},
   "outputs": [],
   "source": [
    "#Build a Logistic Regression Model\n",
    "from sklearn.linear_model import LogisticRegression\n",
    "lr = LogisticRegression()\n",
    "lr.fit(x_train,y_train)\n",
    "lr_acc = cross_val_score(lr, x_train_std, y_train, cv=3, scoring='accuracy', n_jobs=-1)\n",
    "lr_proba = cross_val_predict(lr, x_train_std, y_train, cv=3, method='predict_proba')\n",
    "lr_scores = lr_proba[:, 1]"
   ]
  },
  {
   "cell_type": "code",
   "execution_count": 45,
   "metadata": {},
   "outputs": [
    {
     "data": {
      "text/plain": [
       "array([0.82721139, 0.82783196, 0.82783196])"
      ]
     },
     "execution_count": 45,
     "metadata": {},
     "output_type": "execute_result"
    }
   ],
   "source": [
    "lr_acc"
   ]
  },
  {
   "cell_type": "code",
   "execution_count": 46,
   "metadata": {},
   "outputs": [],
   "source": [
    "#Predict on test data\n",
    "y_pred=lr.predict(x_test)"
   ]
  },
  {
   "cell_type": "code",
   "execution_count": 47,
   "metadata": {},
   "outputs": [
    {
     "name": "stdout",
     "output_type": "stream",
     "text": [
      "Actual click values : \n",
      "[0 0 0 ... 0 0 1]\n"
     ]
    }
   ],
   "source": [
    "print(\"Actual click values : \")\n",
    "print(y_test.values)"
   ]
  },
  {
   "cell_type": "code",
   "execution_count": 48,
   "metadata": {},
   "outputs": [
    {
     "name": "stdout",
     "output_type": "stream",
     "text": [
      "\n",
      "Predicted click values : \n",
      "[0 0 0 ... 0 0 0]\n"
     ]
    }
   ],
   "source": [
    "print(\"\\nPredicted click values : \")\n",
    "print(y_pred)"
   ]
  },
  {
   "cell_type": "code",
   "execution_count": 49,
   "metadata": {},
   "outputs": [
    {
     "name": "stdout",
     "output_type": "stream",
     "text": [
      "\n",
      "Accuracy score: 83.600000\n",
      "Recall score : 0.000000\n",
      "ROC score : 50.000000\n",
      "\n",
      "[[1672    0]\n",
      " [ 328    0]]\n"
     ]
    }
   ],
   "source": [
    "#Accuracy score on Test and Train set\n",
    "from sklearn.metrics import accuracy_score, recall_score, roc_auc_score, confusion_matrix\n",
    "\n",
    "print(\"\\nAccuracy score: %f\" %(accuracy_score(y_test,y_pred) * 100))\n",
    "print(\"Recall score : %f\" %(recall_score(y_test, y_pred) * 100))\n",
    "print(\"ROC score : %f\\n\" %(roc_auc_score(y_test, y_pred) * 100))\n",
    "print(confusion_matrix(y_test, y_pred))"
   ]
  },
  {
   "cell_type": "markdown",
   "metadata": {},
   "source": [
    "# Decision Tree Classifier"
   ]
  },
  {
   "cell_type": "code",
   "execution_count": 76,
   "metadata": {},
   "outputs": [],
   "source": [
    "from sklearn.tree import DecisionTreeClassifier\n",
    "dtc_clf = DecisionTreeClassifier()\n",
    "dtc_clf.fit(x_train,y_train)\n",
    "\n",
    "#Print cross validation score for Decision Tree Calssifier\n",
    "dtc_clf_acc = cross_val_score(dtc_clf, x_train_std, y_train, cv=3, scoring=\"accuracy\",  n_jobs=-1)\n",
    "dtc_proba = cross_val_predict(dtc_clf, x_train_std, y_train, cv=3, method='predict_proba')\n",
    "dtc_clf_scores = dtc_proba[:, 1]"
   ]
  },
  {
   "cell_type": "code",
   "execution_count": 52,
   "metadata": {},
   "outputs": [],
   "source": [
    "y_pred=dtc_clf.predict(x_test)"
   ]
  },
  {
   "cell_type": "code",
   "execution_count": 53,
   "metadata": {},
   "outputs": [
    {
     "name": "stdout",
     "output_type": "stream",
     "text": [
      "Actual click values : \n",
      "[0 0 0 ... 0 0 1]\n"
     ]
    }
   ],
   "source": [
    "print(\"Actual click values : \")\n",
    "print(y_test.values)"
   ]
  },
  {
   "cell_type": "code",
   "execution_count": 54,
   "metadata": {},
   "outputs": [
    {
     "name": "stdout",
     "output_type": "stream",
     "text": [
      "\n",
      "Predicted click values : \n",
      "[0 0 0 ... 0 0 0]\n"
     ]
    }
   ],
   "source": [
    "print(\"\\nPredicted click values : \")\n",
    "print(y_pred)"
   ]
  },
  {
   "cell_type": "code",
   "execution_count": 55,
   "metadata": {},
   "outputs": [
    {
     "name": "stdout",
     "output_type": "stream",
     "text": [
      "\n",
      "Accuracy score: 83.500000\n",
      "Recall score : 0.000000\n",
      "ROC score : 49.940191\n",
      "\n",
      "[[1670    2]\n",
      " [ 328    0]]\n"
     ]
    }
   ],
   "source": [
    "#Accuracy score on Test and Train\n",
    "from sklearn.metrics import accuracy_score, recall_score, roc_auc_score, confusion_matrix\n",
    "print(\"\\nAccuracy score: %f\" %(accuracy_score(y_test,y_pred) * 100))\n",
    "print(\"Recall score : %f\" %(recall_score(y_test, y_pred) * 100))\n",
    "print(\"ROC score : %f\\n\" %(roc_auc_score(y_test, y_pred) * 100))\n",
    "print(confusion_matrix(y_test, y_pred)) "
   ]
  },
  {
   "cell_type": "code",
   "execution_count": 56,
   "metadata": {},
   "outputs": [
    {
     "data": {
      "text/plain": [
       "array([0.82683658, 0.82258065, 0.82333083])"
      ]
     },
     "execution_count": 56,
     "metadata": {},
     "output_type": "execute_result"
    }
   ],
   "source": [
    "dtc_clf_acc"
   ]
  },
  {
   "cell_type": "markdown",
   "metadata": {},
   "source": [
    "# Random Forest Classifier"
   ]
  },
  {
   "cell_type": "code",
   "execution_count": 57,
   "metadata": {},
   "outputs": [
    {
     "name": "stderr",
     "output_type": "stream",
     "text": [
      "F:\\anaconda\\lib\\site-packages\\sklearn\\ensemble\\weight_boosting.py:29: DeprecationWarning: numpy.core.umath_tests is an internal NumPy module and should not be imported. It will be removed in a future NumPy release.\n",
      "  from numpy.core.umath_tests import inner1d\n"
     ]
    }
   ],
   "source": [
    "##Build Random Forest Calssifier\n",
    "from sklearn.ensemble import RandomForestClassifier\n",
    "rmf = RandomForestClassifier(max_depth=5, random_state=0) #max_depth should be moderate i.e minimum 3\n",
    "rmf_clf = rmf.fit(x_train, y_train)"
   ]
  },
  {
   "cell_type": "code",
   "execution_count": 58,
   "metadata": {},
   "outputs": [],
   "source": [
    "#Print cross validation score for Random Forest Calssifier\n",
    "rmf_clf_acc = cross_val_score(rmf_clf, x_train_std, y_train, cv=3, scoring=\"accuracy\",  n_jobs=-1)\n",
    "rmf_proba = cross_val_predict(rmf_clf, x_train_std, y_train, cv=3, method='predict_proba')\n",
    "rmf_clf_scores = rmf_proba[:, 1]"
   ]
  },
  {
   "cell_type": "code",
   "execution_count": 59,
   "metadata": {},
   "outputs": [
    {
     "data": {
      "text/plain": [
       "array([0.82758621, 0.82820705, 0.82783196])"
      ]
     },
     "execution_count": 59,
     "metadata": {},
     "output_type": "execute_result"
    }
   ],
   "source": [
    "rmf_clf_acc"
   ]
  },
  {
   "cell_type": "code",
   "execution_count": 60,
   "metadata": {},
   "outputs": [],
   "source": [
    "y_pred=lr.predict(x_test)"
   ]
  },
  {
   "cell_type": "code",
   "execution_count": 61,
   "metadata": {},
   "outputs": [
    {
     "name": "stdout",
     "output_type": "stream",
     "text": [
      "[0 0 0 ... 0 0 1]\n"
     ]
    }
   ],
   "source": [
    "print(y_test.values)"
   ]
  },
  {
   "cell_type": "code",
   "execution_count": 62,
   "metadata": {},
   "outputs": [
    {
     "name": "stdout",
     "output_type": "stream",
     "text": [
      "[0 0 0 ... 0 0 0]\n"
     ]
    }
   ],
   "source": [
    "print(y_pred)"
   ]
  },
  {
   "cell_type": "code",
   "execution_count": 63,
   "metadata": {},
   "outputs": [
    {
     "name": "stdout",
     "output_type": "stream",
     "text": [
      "\n",
      "Accuracy score: 83.600000\n",
      "Recall score : 0.000000\n",
      "ROC score : 50.000000\n",
      "\n",
      "[[1672    0]\n",
      " [ 328    0]]\n"
     ]
    }
   ],
   "source": [
    "#Accuracy score on Test and Train\n",
    "from sklearn.metrics import accuracy_score, recall_score, roc_auc_score, confusion_matrix\n",
    "print(\"\\nAccuracy score: %f\" %(accuracy_score(y_test,y_pred) * 100))\n",
    "print(\"Recall score : %f\" %(recall_score(y_test, y_pred) * 100))\n",
    "print(\"ROC score : %f\\n\" %(roc_auc_score(y_test, y_pred) * 100))\n",
    "print(confusion_matrix(y_test, y_pred)) "
   ]
  },
  {
   "cell_type": "markdown",
   "metadata": {},
   "source": [
    "# Support vector Machine"
   ]
  },
  {
   "cell_type": "code",
   "execution_count": 64,
   "metadata": {},
   "outputs": [],
   "source": [
    "from sklearn.svm import SVC\n",
    "svc = SVC(kernel='rbf',probability = True)\n",
    "svc_classifier = svc.fit(x_train,y_train)"
   ]
  },
  {
   "cell_type": "code",
   "execution_count": 65,
   "metadata": {},
   "outputs": [],
   "source": [
    "#Print cross validation score for SVC\n",
    "svc_acc = cross_val_score(svc_classifier, x_train_std, y_train, cv=3, scoring=\"accuracy\",  n_jobs=-1)\n",
    "svc_proba = cross_val_predict(svc_classifier, x_train_std, y_train, cv=3, method='predict_proba')\n",
    "svc_scores = svc_proba[:, 1]"
   ]
  },
  {
   "cell_type": "code",
   "execution_count": 66,
   "metadata": {},
   "outputs": [],
   "source": [
    "\n",
    "y_pred=svc_classifier.predict(x_test)"
   ]
  },
  {
   "cell_type": "code",
   "execution_count": 67,
   "metadata": {},
   "outputs": [
    {
     "name": "stdout",
     "output_type": "stream",
     "text": [
      "\n",
      "Accuracy score: 83.600000\n",
      "Recall score : 0.000000\n",
      "ROC score : 50.000000\n",
      "\n",
      "[[1672    0]\n",
      " [ 328    0]]\n"
     ]
    }
   ],
   "source": [
    "from sklearn.metrics import accuracy_score, recall_score, roc_auc_score, confusion_matrix\n",
    "print(\"\\nAccuracy score: %f\" %(accuracy_score(y_test,y_pred) * 100))\n",
    "print(\"Recall score : %f\" %(recall_score(y_test, y_pred) * 100))\n",
    "print(\"ROC score : %f\\n\" %(roc_auc_score(y_test, y_pred) * 100))\n",
    "print(confusion_matrix(y_test, y_pred)) "
   ]
  },
  {
   "cell_type": "markdown",
   "metadata": {},
   "source": [
    "# Naive bayes"
   ]
  },
  {
   "cell_type": "code",
   "execution_count": 68,
   "metadata": {},
   "outputs": [],
   "source": [
    "from sklearn.naive_bayes import GaussianNB\n",
    "nb_classifier =GaussianNB()\n",
    "nb_classifier.fit(x_train, y_train)\n",
    "nb_acc = cross_val_score(nb_classifier, x_train_std, y_train, cv=3, scoring='accuracy', n_jobs=-1)\n",
    "nb_proba = cross_val_predict(nb_classifier, x_train_std, y_train, cv=3, method='predict_proba')\n",
    "nb_scores = nb_proba[:, 1]"
   ]
  },
  {
   "cell_type": "code",
   "execution_count": 69,
   "metadata": {},
   "outputs": [],
   "source": [
    "y_pred=nb_classifier.predict(x_test)"
   ]
  },
  {
   "cell_type": "code",
   "execution_count": 70,
   "metadata": {},
   "outputs": [
    {
     "name": "stdout",
     "output_type": "stream",
     "text": [
      "\n",
      "Accuracy score: 82.950000\n",
      "Recall score : 9.146341\n",
      "ROC score : 53.287286\n",
      "\n",
      "[[1629   43]\n",
      " [ 298   30]]\n"
     ]
    }
   ],
   "source": [
    "from sklearn.metrics import accuracy_score, recall_score, roc_auc_score, confusion_matrix\n",
    "\n",
    "print(\"\\nAccuracy score: %f\" %(accuracy_score(y_test,y_pred) * 100))\n",
    "print(\"Recall score : %f\" %(recall_score(y_test, y_pred) * 100))\n",
    "print(\"ROC score : %f\\n\" %(roc_auc_score(y_test, y_pred) * 100))\n",
    "print(confusion_matrix(y_test, y_pred))"
   ]
  },
  {
   "cell_type": "markdown",
   "metadata": {},
   "source": [
    "# KNN"
   ]
  },
  {
   "cell_type": "code",
   "execution_count": 71,
   "metadata": {},
   "outputs": [
    {
     "data": {
      "text/plain": [
       "KNeighborsClassifier(algorithm='auto', leaf_size=30, metric='minkowski',\n",
       "           metric_params=None, n_jobs=1, n_neighbors=5, p=2,\n",
       "           weights='uniform')"
      ]
     },
     "execution_count": 71,
     "metadata": {},
     "output_type": "execute_result"
    }
   ],
   "source": [
    "clf = neighbors.KNeighborsClassifier()\n",
    "clf.fit(x_train,y_train)"
   ]
  },
  {
   "cell_type": "code",
   "execution_count": 72,
   "metadata": {},
   "outputs": [],
   "source": [
    "y_pred=clf.predict(x_test)"
   ]
  },
  {
   "cell_type": "code",
   "execution_count": 73,
   "metadata": {},
   "outputs": [
    {
     "name": "stdout",
     "output_type": "stream",
     "text": [
      "\n",
      "Accuracy score: 81.100000\n",
      "Recall score : 13.414634\n",
      "ROC score : 53.896312\n",
      "\n",
      "[[1578   94]\n",
      " [ 284   44]]\n"
     ]
    }
   ],
   "source": [
    "from sklearn.metrics import accuracy_score, recall_score, roc_auc_score, confusion_matrix\n",
    "\n",
    "print(\"\\nAccuracy score: %f\" %(accuracy_score(y_test,y_pred) * 100))\n",
    "print(\"Recall score : %f\" %(recall_score(y_test, y_pred) * 100))\n",
    "print(\"ROC score : %f\\n\" %(roc_auc_score(y_test, y_pred) * 100))\n",
    "print(confusion_matrix(y_test, y_pred)) "
   ]
  },
  {
   "cell_type": "code",
   "execution_count": 74,
   "metadata": {},
   "outputs": [],
   "source": [
    "from sklearn.metrics import roc_auc_score,roc_curve\n",
    "def ROC_curve(title, y_train, scores, label=None):\n",
    "    # calculate the ROC score\n",
    "    fpr, tpr, thresholds = roc_curve(y_train, scores)\n",
    "    print('AUC Score ({}): {:.2f} '.format(title, roc_auc_score(y_train, scores)))\n",
    "    \n",
    "    # plot the ROC curve\n",
    "    plt.figure(figsize=(8,6))\n",
    "    plt.plot(fpr, tpr, linewidth=2, label=label, color='b')\n",
    "    plt.xlabel('False Positive Rate', fontsize=16)\n",
    "    plt.ylabel('True Positive Rate', fontsize=16)\n",
    "    plt.title('ROC Curve: {}'.format(title), fontsize=16)\n",
    "    plt.show()"
   ]
  },
  {
   "cell_type": "code",
   "execution_count": 79,
   "metadata": {},
   "outputs": [],
   "source": [
    "x_train_std = minmax.fit_transform(x_train)\n",
    "x_test_std = minmax.transform(x_test)"
   ]
  },
  {
   "cell_type": "code",
   "execution_count": 80,
   "metadata": {},
   "outputs": [],
   "source": [
    "from sklearn.model_selection import cross_val_score,cross_val_predict"
   ]
  },
  {
   "cell_type": "code",
   "execution_count": 81,
   "metadata": {},
   "outputs": [],
   "source": [
    "#Print cross validation score for kNN\n",
    "clf_acc = cross_val_score(clf, x_train_std, y_train, cv=3, scoring=\"accuracy\",  n_jobs=-1)"
   ]
  },
  {
   "cell_type": "code",
   "execution_count": 82,
   "metadata": {},
   "outputs": [],
   "source": [
    "clf_proba = cross_val_predict(clf, x_train_std, y_train, cv=3, method='predict_proba')\n",
    "clf_scores = clf_proba[:, 1] # get the score of the positive class"
   ]
  },
  {
   "cell_type": "code",
   "execution_count": 83,
   "metadata": {},
   "outputs": [
    {
     "data": {
      "text/plain": [
       "array([0.81634183, 0.81057764, 0.5963991 ])"
      ]
     },
     "execution_count": 83,
     "metadata": {},
     "output_type": "execute_result"
    }
   ],
   "source": [
    "clf_acc"
   ]
  },
  {
   "cell_type": "code",
   "execution_count": 84,
   "metadata": {},
   "outputs": [
    {
     "name": "stdout",
     "output_type": "stream",
     "text": [
      "AUC Score (kNN): 0.60 \n"
     ]
    },
    {
     "data": {
      "image/png": "[encoded data removed]",
      "text/plain": [
       "<Figure size 576x432 with 1 Axes>"
      ]
     },
     "metadata": {
      "needs_background": "light"
     },
     "output_type": "display_data"
    },
    {
     "name": "stdout",
     "output_type": "stream",
     "text": [
      "AUC Score (Logistic Regression): 0.61 \n"
     ]
    },
    {
     "data": {
      "image/png": "[encoded data removed]",
      "text/plain": [
       "<Figure size 576x432 with 1 Axes>"
      ]
     },
     "metadata": {
      "needs_background": "light"
     },
     "output_type": "display_data"
    },
    {
     "name": "stdout",
     "output_type": "stream",
     "text": [
      "AUC Score (Naive Bayes): 0.61 \n"
     ]
    },
    {
     "data": {
      "image/png": "[encoded data removed]",
      "text/plain": [
       "<Figure size 576x432 with 1 Axes>"
      ]
     },
     "metadata": {
      "needs_background": "light"
     },
     "output_type": "display_data"
    },
    {
     "name": "stdout",
     "output_type": "stream",
     "text": [
      "AUC Score (Support Vector Classification): 0.56 \n"
     ]
    },
    {
     "data": {
      "image/png": "[encoded data removed]",
      "text/plain": [
       "<Figure size 576x432 with 1 Axes>"
      ]
     },
     "metadata": {
      "needs_background": "light"
     },
     "output_type": "display_data"
    },
    {
     "name": "stdout",
     "output_type": "stream",
     "text": [
      "AUC Score (Decision Tree Classifier): 0.67 \n"
     ]
    },
    {
     "data": {
      "image/png": "[encoded data removed]",
      "text/plain": [
       "<Figure size 576x432 with 1 Axes>"
      ]
     },
     "metadata": {
      "needs_background": "light"
     },
     "output_type": "display_data"
    },
    {
     "name": "stdout",
     "output_type": "stream",
     "text": [
      "AUC Score (Random Forest Classifier): 0.65 \n"
     ]
    },
    {
     "data": {
      "image/png": "[encoded data removed]",
      "text/plain": [
       "<Figure size 576x432 with 1 Axes>"
      ]
     },
     "metadata": {
      "needs_background": "light"
     },
     "output_type": "display_data"
    }
   ],
   "source": [
    "ROC_curve('kNN', y_train, clf_scores)\n",
    "ROC_curve('Logistic Regression', y_train, lr_scores)\n",
    "ROC_curve('Naive Bayes',y_train,nb_scores)\n",
    "ROC_curve('Support Vector Classification',y_train,svc_scores)\n",
    "ROC_curve('Decision Tree Classifier',y_train,dtc_clf_scores)\n",
    "ROC_curve('Random Forest Classifier',y_train,rmf_clf_scores)"
   ]
  },
  {
   "cell_type": "code",
   "execution_count": null,
   "metadata": {},
   "outputs": [],
   "source": [
    "#"
   ]
  }
 ],
 "metadata": {
  "kernelspec": {
   "display_name": "Python 3",
   "language": "python",
   "name": "python3"
  },
  "language_info": {
   "codemirror_mode": {
    "name": "ipython",
    "version": 3
   },
   "file_extension": ".py",
   "mimetype": "text/x-python",
   "name": "python",
   "nbconvert_exporter": "python",
   "pygments_lexer": "ipython3",
   "version": "3.7.0"
  }
 },
 "nbformat": 4,
 "nbformat_minor": 2
}
